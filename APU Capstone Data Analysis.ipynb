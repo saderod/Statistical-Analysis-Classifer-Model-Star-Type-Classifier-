{
 "cells": [
  {
   "cell_type": "code",
   "execution_count": 1165,
   "id": "6aecbc96",
   "metadata": {},
   "outputs": [],
   "source": [
    "import pandas as pd\n",
    "from statistics import mean\n",
    "from statistics import stdev\n",
    "from statistics import variance\n",
    "from statistics import median\n",
    "import matplotlib.pyplot as plt\n",
    "import numpy as np\n",
    "from scipy.stats import norm\n",
    "import statistics\n",
    "import seaborn as sns\n",
    "from scipy.stats import spearmanr\n",
    "from pingouin import kruskal\n",
    "from sklearn.model_selection import StratifiedKFold\n",
    "from sklearn.svm import SVC\n",
    "from sklearn.ensemble import RandomForestClassifier\n",
    "import numpy as np\n",
    "from bioinfokit.analys import stat\n",
    "import joblib\n",
    "from scipy.stats import iqr"
   ]
  },
  {
   "cell_type": "code",
   "execution_count": 1381,
   "id": "5e10fd04",
   "metadata": {},
   "outputs": [
    {
     "data": {
      "text/html": [
       "<div>\n",
       "<style scoped>\n",
       "    .dataframe tbody tr th:only-of-type {\n",
       "        vertical-align: middle;\n",
       "    }\n",
       "\n",
       "    .dataframe tbody tr th {\n",
       "        vertical-align: top;\n",
       "    }\n",
       "\n",
       "    .dataframe thead th {\n",
       "        text-align: right;\n",
       "    }\n",
       "</style>\n",
       "<table border=\"1\" class=\"dataframe\">\n",
       "  <thead>\n",
       "    <tr style=\"text-align: right;\">\n",
       "      <th></th>\n",
       "      <th>Temperature (K)</th>\n",
       "      <th>Luminosity(L/Lo)</th>\n",
       "      <th>Radius(R/Ro)</th>\n",
       "      <th>Absolute magnitude(Mv)</th>\n",
       "      <th>Star type</th>\n",
       "      <th>Star color</th>\n",
       "      <th>Spectral Class</th>\n",
       "    </tr>\n",
       "  </thead>\n",
       "  <tbody>\n",
       "    <tr>\n",
       "      <th>0</th>\n",
       "      <td>3068</td>\n",
       "      <td>0.002400</td>\n",
       "      <td>0.1700</td>\n",
       "      <td>16.12</td>\n",
       "      <td>0</td>\n",
       "      <td>Red</td>\n",
       "      <td>M</td>\n",
       "    </tr>\n",
       "    <tr>\n",
       "      <th>1</th>\n",
       "      <td>3042</td>\n",
       "      <td>0.000500</td>\n",
       "      <td>0.1542</td>\n",
       "      <td>16.60</td>\n",
       "      <td>0</td>\n",
       "      <td>Red</td>\n",
       "      <td>M</td>\n",
       "    </tr>\n",
       "    <tr>\n",
       "      <th>2</th>\n",
       "      <td>2600</td>\n",
       "      <td>0.000300</td>\n",
       "      <td>0.1020</td>\n",
       "      <td>18.70</td>\n",
       "      <td>0</td>\n",
       "      <td>Red</td>\n",
       "      <td>M</td>\n",
       "    </tr>\n",
       "    <tr>\n",
       "      <th>3</th>\n",
       "      <td>2800</td>\n",
       "      <td>0.000200</td>\n",
       "      <td>0.1600</td>\n",
       "      <td>16.65</td>\n",
       "      <td>0</td>\n",
       "      <td>Red</td>\n",
       "      <td>M</td>\n",
       "    </tr>\n",
       "    <tr>\n",
       "      <th>4</th>\n",
       "      <td>1939</td>\n",
       "      <td>0.000138</td>\n",
       "      <td>0.1030</td>\n",
       "      <td>20.06</td>\n",
       "      <td>0</td>\n",
       "      <td>Red</td>\n",
       "      <td>M</td>\n",
       "    </tr>\n",
       "    <tr>\n",
       "      <th>...</th>\n",
       "      <td>...</td>\n",
       "      <td>...</td>\n",
       "      <td>...</td>\n",
       "      <td>...</td>\n",
       "      <td>...</td>\n",
       "      <td>...</td>\n",
       "      <td>...</td>\n",
       "    </tr>\n",
       "    <tr>\n",
       "      <th>235</th>\n",
       "      <td>38940</td>\n",
       "      <td>374830.000000</td>\n",
       "      <td>1356.0000</td>\n",
       "      <td>-9.93</td>\n",
       "      <td>5</td>\n",
       "      <td>Blue</td>\n",
       "      <td>O</td>\n",
       "    </tr>\n",
       "    <tr>\n",
       "      <th>236</th>\n",
       "      <td>30839</td>\n",
       "      <td>834042.000000</td>\n",
       "      <td>1194.0000</td>\n",
       "      <td>-10.63</td>\n",
       "      <td>5</td>\n",
       "      <td>Blue</td>\n",
       "      <td>O</td>\n",
       "    </tr>\n",
       "    <tr>\n",
       "      <th>237</th>\n",
       "      <td>8829</td>\n",
       "      <td>537493.000000</td>\n",
       "      <td>1423.0000</td>\n",
       "      <td>-10.73</td>\n",
       "      <td>5</td>\n",
       "      <td>White</td>\n",
       "      <td>A</td>\n",
       "    </tr>\n",
       "    <tr>\n",
       "      <th>238</th>\n",
       "      <td>9235</td>\n",
       "      <td>404940.000000</td>\n",
       "      <td>1112.0000</td>\n",
       "      <td>-11.23</td>\n",
       "      <td>5</td>\n",
       "      <td>White</td>\n",
       "      <td>A</td>\n",
       "    </tr>\n",
       "    <tr>\n",
       "      <th>239</th>\n",
       "      <td>37882</td>\n",
       "      <td>294903.000000</td>\n",
       "      <td>1783.0000</td>\n",
       "      <td>-7.80</td>\n",
       "      <td>5</td>\n",
       "      <td>Blue</td>\n",
       "      <td>O</td>\n",
       "    </tr>\n",
       "  </tbody>\n",
       "</table>\n",
       "<p>240 rows × 7 columns</p>\n",
       "</div>"
      ],
      "text/plain": [
       "     Temperature (K)  Luminosity(L/Lo)  Radius(R/Ro)  Absolute magnitude(Mv)  \\\n",
       "0               3068          0.002400        0.1700                   16.12   \n",
       "1               3042          0.000500        0.1542                   16.60   \n",
       "2               2600          0.000300        0.1020                   18.70   \n",
       "3               2800          0.000200        0.1600                   16.65   \n",
       "4               1939          0.000138        0.1030                   20.06   \n",
       "..               ...               ...           ...                     ...   \n",
       "235            38940     374830.000000     1356.0000                   -9.93   \n",
       "236            30839     834042.000000     1194.0000                  -10.63   \n",
       "237             8829     537493.000000     1423.0000                  -10.73   \n",
       "238             9235     404940.000000     1112.0000                  -11.23   \n",
       "239            37882     294903.000000     1783.0000                   -7.80   \n",
       "\n",
       "     Star type Star color Spectral Class  \n",
       "0            0        Red              M  \n",
       "1            0        Red              M  \n",
       "2            0        Red              M  \n",
       "3            0        Red              M  \n",
       "4            0        Red              M  \n",
       "..         ...        ...            ...  \n",
       "235          5       Blue              O  \n",
       "236          5       Blue              O  \n",
       "237          5      White              A  \n",
       "238          5      White              A  \n",
       "239          5       Blue              O  \n",
       "\n",
       "[240 rows x 7 columns]"
      ]
     },
     "execution_count": 1381,
     "metadata": {},
     "output_type": "execute_result"
    }
   ],
   "source": [
    "data = pd.read_csv(\"6 class csv.csv\")\n",
    "data"
   ]
  },
  {
   "cell_type": "code",
   "execution_count": 1382,
   "id": "193774ff",
   "metadata": {},
   "outputs": [],
   "source": [
    "temp_data = data[\"Temperature (K)\"]\n",
    "lum_data = data[\"Luminosity(L/Lo)\"]\n",
    "abs_data = data[\"Absolute magnitude(Mv)\"]\n",
    "rad_data = data[\"Radius(R/Ro)\"]\n",
    "type_data = data[\"Star type\"]\n",
    "color_data = data[\"Star color\"]\n",
    "spec_data = data[\"Spectral Class\"]\n",
    "num_values = data[[\"Temperature (K)\", \"Luminosity(L/Lo)\", \"Absolute magnitude(Mv)\", \"Radius(R/Ro)\"]]\n"
   ]
  },
  {
   "cell_type": "code",
   "execution_count": 1383,
   "id": "735d6e51",
   "metadata": {},
   "outputs": [],
   "source": [
    "### Means ###"
   ]
  },
  {
   "cell_type": "code",
   "execution_count": 1384,
   "id": "52a33e4f",
   "metadata": {},
   "outputs": [],
   "source": [
    "column_name_list = [\"Temperature (K)\", \"Luminosity(L/Lo)\", \"Radius(R/Ro)\", \"Absolute magnitude(Mv)\"]"
   ]
  },
  {
   "cell_type": "code",
   "execution_count": 1385,
   "id": "37d17780",
   "metadata": {},
   "outputs": [
    {
     "name": "stdout",
     "output_type": "stream",
     "text": [
      "The Mean Value for Temperature (K) is: 10497.4625\n",
      "The Mean Value for Luminosity(L/Lo) is: 107188.36163460833\n",
      "The Mean Value for Radius(R/Ro) is: 237.157781375\n",
      "The Mean Value for Absolute magnitude(Mv) is: 4.382395833333334\n"
     ]
    }
   ],
   "source": [
    "for i in column_name_list:\n",
    "    mean_calc = mean(data[i])\n",
    "    print(\"The Mean Value for \" + i + \" is: \" + str(mean_calc))"
   ]
  },
  {
   "cell_type": "code",
   "execution_count": 1386,
   "id": "8487a643",
   "metadata": {},
   "outputs": [],
   "source": [
    "### Standard Deviation ###"
   ]
  },
  {
   "cell_type": "code",
   "execution_count": 1387,
   "id": "a54cde42",
   "metadata": {},
   "outputs": [
    {
     "name": "stdout",
     "output_type": "stream",
     "text": [
      "The Standard Deviation for Temperature (K) is: 9552.425037164023\n",
      "The Standard Deviation for Luminosity(L/Lo) is: 179432.2449402145\n",
      "The Standard Deviation for Radius(R/Ro) is: 517.1557634028478\n",
      "The Standard Deviation for Absolute magnitude(Mv) is: 10.53251235061617\n"
     ]
    }
   ],
   "source": [
    "for i in column_name_list:\n",
    "    stdev_calc = stdev(data[i])\n",
    "    print(\"The Standard Deviation for \" + i + \" is: \" + str(stdev_calc))"
   ]
  },
  {
   "cell_type": "code",
   "execution_count": 1388,
   "id": "e9307947",
   "metadata": {},
   "outputs": [],
   "source": [
    "## Variance ###"
   ]
  },
  {
   "cell_type": "code",
   "execution_count": 1389,
   "id": "7d7956c7",
   "metadata": {},
   "outputs": [
    {
     "name": "stdout",
     "output_type": "stream",
     "text": [
      "The Variance Value for Temperature (K) is: 91248824.09063807\n",
      "The Variance Value for Luminosity(L/Lo) is: 32195930524.28513\n",
      "The Variance Value for Radius(R/Ro) is: 267450.08362078236\n",
      "The Variance Value for Absolute magnitude(Mv) is: 110.93381641588215\n"
     ]
    }
   ],
   "source": [
    "for i in column_name_list:\n",
    "    var_calc = variance(data[i])\n",
    "    print(\"The Variance Value for \" + i + \" is: \" + str(var_calc))"
   ]
  },
  {
   "cell_type": "code",
   "execution_count": 1390,
   "id": "62e7b3e1",
   "metadata": {},
   "outputs": [],
   "source": [
    "### Range ###"
   ]
  },
  {
   "cell_type": "code",
   "execution_count": 1391,
   "id": "09e78a1f",
   "metadata": {},
   "outputs": [
    {
     "name": "stdout",
     "output_type": "stream",
     "text": [
      "The Range Value for Temperature (K) is: 38061\n",
      "The Range Value for Luminosity(L/Lo) is: 849419.99992\n",
      "The Range Value for Radius(R/Ro) is: 1948.4916\n",
      "The Range Value for Absolute magnitude(Mv) is: 31.979999999999997\n"
     ]
    }
   ],
   "source": [
    "for i in column_name_list:\n",
    "    range_calc = max(data[i]) - min(data[i])\n",
    "    print(\"The Range Value for \" + i + \" is: \" + str(range_calc))"
   ]
  },
  {
   "cell_type": "code",
   "execution_count": 1392,
   "id": "9e4e0831",
   "metadata": {},
   "outputs": [],
   "source": [
    "### Maxes ###"
   ]
  },
  {
   "cell_type": "code",
   "execution_count": 1393,
   "id": "e8c86521",
   "metadata": {},
   "outputs": [
    {
     "name": "stdout",
     "output_type": "stream",
     "text": [
      "The Max Value for Temperature (K) is: 40000\n",
      "The Max Value for Luminosity(L/Lo) is: 849420.0\n",
      "The Max Value for Radius(R/Ro) is: 1948.5\n",
      "The Max Value for Absolute magnitude(Mv) is: 20.06\n"
     ]
    }
   ],
   "source": [
    "for i in column_name_list:\n",
    "    max_calc = max(data[i])\n",
    "    print(\"The Max Value for \" + i + \" is: \" + str(max_calc))"
   ]
  },
  {
   "cell_type": "code",
   "execution_count": 1394,
   "id": "6250b124",
   "metadata": {},
   "outputs": [],
   "source": [
    "### Minimums ###"
   ]
  },
  {
   "cell_type": "code",
   "execution_count": 1395,
   "id": "fe635e58",
   "metadata": {},
   "outputs": [
    {
     "name": "stdout",
     "output_type": "stream",
     "text": [
      "The Mean Value for Temperature (K) is: 1939\n",
      "The Mean Value for Luminosity(L/Lo) is: 8e-05\n",
      "The Mean Value for Radius(R/Ro) is: 0.0084\n",
      "The Mean Value for Absolute magnitude(Mv) is: -11.92\n"
     ]
    }
   ],
   "source": [
    "for i in column_name_list:\n",
    "    min_calc = min(data[i])\n",
    "    print(\"The Mean Value for \" + i + \" is: \" + str(min_calc))"
   ]
  },
  {
   "cell_type": "code",
   "execution_count": 1396,
   "id": "87c777c2",
   "metadata": {},
   "outputs": [],
   "source": [
    "### Medians ###"
   ]
  },
  {
   "cell_type": "code",
   "execution_count": 1397,
   "id": "c1ef9f70",
   "metadata": {},
   "outputs": [
    {
     "name": "stdout",
     "output_type": "stream",
     "text": [
      "The Mean Value for Temperature (K) is: 5776.0\n",
      "The Mean Value for Luminosity(L/Lo) is: 0.07050000000000001\n",
      "The Mean Value for Radius(R/Ro) is: 0.7625\n",
      "The Mean Value for Absolute magnitude(Mv) is: 8.312999999999999\n"
     ]
    }
   ],
   "source": [
    "for i in column_name_list:\n",
    "    med_calc = median(data[i])\n",
    "    print(\"The Mean Value for \" + i + \" is: \" + str(med_calc))"
   ]
  },
  {
   "cell_type": "code",
   "execution_count": 1398,
   "id": "ba67f330",
   "metadata": {},
   "outputs": [],
   "source": [
    "### Star Types ###"
   ]
  },
  {
   "cell_type": "code",
   "execution_count": 1399,
   "id": "1a0695f2",
   "metadata": {},
   "outputs": [
    {
     "data": {
      "text/plain": [
       "array([0, 1, 2, 3, 4, 5])"
      ]
     },
     "execution_count": 1399,
     "metadata": {},
     "output_type": "execute_result"
    }
   ],
   "source": [
    "data[\"Star type\"].unique()"
   ]
  },
  {
   "cell_type": "code",
   "execution_count": 1400,
   "id": "1aad995d",
   "metadata": {},
   "outputs": [],
   "source": [
    "### Star Color ### "
   ]
  },
  {
   "cell_type": "code",
   "execution_count": 1401,
   "id": "378671bb",
   "metadata": {},
   "outputs": [
    {
     "data": {
      "text/plain": [
       "array(['Red', 'Blue White', 'White', 'Yellowish White', 'Blue white',\n",
       "       'Pale yellow orange', 'Blue', 'Blue-white', 'Whitish',\n",
       "       'yellow-white', 'Orange', 'White-Yellow', 'white', 'Blue ',\n",
       "       'yellowish', 'Yellowish', 'Orange-Red', 'Blue white ',\n",
       "       'Blue-White'], dtype=object)"
      ]
     },
     "execution_count": 1401,
     "metadata": {},
     "output_type": "execute_result"
    }
   ],
   "source": [
    "data[\"Star color\"].unique()"
   ]
  },
  {
   "cell_type": "code",
   "execution_count": 1402,
   "id": "a5065aac",
   "metadata": {},
   "outputs": [],
   "source": [
    "### Spectral Class ###"
   ]
  },
  {
   "cell_type": "code",
   "execution_count": 1403,
   "id": "3f534b8f",
   "metadata": {},
   "outputs": [
    {
     "data": {
      "text/plain": [
       "array(['M', 'B', 'A', 'F', 'O', 'K', 'G'], dtype=object)"
      ]
     },
     "execution_count": 1403,
     "metadata": {},
     "output_type": "execute_result"
    }
   ],
   "source": [
    "data[\"Spectral Class\"].unique()"
   ]
  },
  {
   "cell_type": "code",
   "execution_count": 1404,
   "id": "2ba9b5d5",
   "metadata": {},
   "outputs": [],
   "source": [
    "### Normal Distribution ###"
   ]
  },
  {
   "cell_type": "code",
   "execution_count": 1405,
   "id": "6de4fc2c",
   "metadata": {},
   "outputs": [
    {
     "data": {
      "text/plain": [
       "Text(0.5, 1.0, 'Temperature Histogram')"
      ]
     },
     "execution_count": 1405,
     "metadata": {},
     "output_type": "execute_result"
    },
    {
     "data": {
      "image/png": "[encoded data removed]",
      "text/plain": [
       "<Figure size 432x288 with 1 Axes>"
      ]
     },
     "metadata": {
      "needs_background": "light"
     },
     "output_type": "display_data"
    }
   ],
   "source": [
    "plt.hist(data[\"Temperature (K)\"])\n",
    "plt.title(\"Temperature Histogram\")"
   ]
  },
  {
   "cell_type": "code",
   "execution_count": 1406,
   "id": "d8a4b429",
   "metadata": {},
   "outputs": [
    {
     "data": {
      "text/plain": [
       "Text(0.5, 1.0, 'Luminosity Histogram')"
      ]
     },
     "execution_count": 1406,
     "metadata": {},
     "output_type": "execute_result"
    },
    {
     "data": {
      "image/png": "[encoded data removed]",
      "text/plain": [
       "<Figure size 432x288 with 1 Axes>"
      ]
     },
     "metadata": {
      "needs_background": "light"
     },
     "output_type": "display_data"
    }
   ],
   "source": [
    "plt.hist(data[\"Luminosity(L/Lo)\"])\n",
    "plt.title(\"Luminosity Histogram\")"
   ]
  },
  {
   "cell_type": "code",
   "execution_count": 1407,
   "id": "e64d6299",
   "metadata": {},
   "outputs": [
    {
     "data": {
      "text/plain": [
       "Text(0.5, 1.0, 'Absolute Histogram')"
      ]
     },
     "execution_count": 1407,
     "metadata": {},
     "output_type": "execute_result"
    },
    {
     "data": {
      "image/png": "[encoded data removed]",
      "text/plain": [
       "<Figure size 432x288 with 1 Axes>"
      ]
     },
     "metadata": {
      "needs_background": "light"
     },
     "output_type": "display_data"
    }
   ],
   "source": [
    "plt.hist(data[\"Absolute magnitude(Mv)\"])\n",
    "plt.title(\"Absolute Histogram\")"
   ]
  },
  {
   "cell_type": "code",
   "execution_count": 1408,
   "id": "0b36bdf3",
   "metadata": {},
   "outputs": [
    {
     "data": {
      "text/plain": [
       "Text(0.5, 1.0, 'Radius Histogram')"
      ]
     },
     "execution_count": 1408,
     "metadata": {},
     "output_type": "execute_result"
    },
    {
     "data": {
      "image/png": "[encoded data removed]",
      "text/plain": [
       "<Figure size 432x288 with 1 Axes>"
      ]
     },
     "metadata": {
      "needs_background": "light"
     },
     "output_type": "display_data"
    }
   ],
   "source": [
    "plt.hist(data[\"Radius(R/Ro)\"])\n",
    "plt.title(\"Radius Histogram\")"
   ]
  },
  {
   "cell_type": "code",
   "execution_count": 1409,
   "id": "63d99ff5",
   "metadata": {},
   "outputs": [],
   "source": [
    "### Star Type Data Distribution ###"
   ]
  },
  {
   "cell_type": "code",
   "execution_count": 1410,
   "id": "7c18bec1",
   "metadata": {},
   "outputs": [
    {
     "data": {
      "text/plain": [
       "<AxesSubplot:>"
      ]
     },
     "execution_count": 1410,
     "metadata": {},
     "output_type": "execute_result"
    },
    {
     "data": {
      "image/png": "[encoded data removed]",
      "text/plain": [
       "<Figure size 432x288 with 1 Axes>"
      ]
     },
     "metadata": {
      "needs_background": "light"
     },
     "output_type": "display_data"
    }
   ],
   "source": [
    "data[\"Star type\"].value_counts().plot(kind=\"bar\")"
   ]
  },
  {
   "cell_type": "code",
   "execution_count": 1411,
   "id": "008e3289",
   "metadata": {},
   "outputs": [],
   "source": [
    "### Star Color Distribution ###"
   ]
  },
  {
   "cell_type": "code",
   "execution_count": 1412,
   "id": "fe0e9d41",
   "metadata": {},
   "outputs": [
    {
     "data": {
      "text/plain": [
       "<AxesSubplot:>"
      ]
     },
     "execution_count": 1412,
     "metadata": {},
     "output_type": "execute_result"
    },
    {
     "data": {
      "image/png": "[encoded data removed]",
      "text/plain": [
       "<Figure size 432x288 with 1 Axes>"
      ]
     },
     "metadata": {
      "needs_background": "light"
     },
     "output_type": "display_data"
    }
   ],
   "source": [
    "data[\"Star color\"].value_counts().plot(kind=\"bar\")"
   ]
  },
  {
   "cell_type": "code",
   "execution_count": 1413,
   "id": "fd35a9b1",
   "metadata": {},
   "outputs": [],
   "source": [
    "### Spectral Class Distribution ###"
   ]
  },
  {
   "cell_type": "code",
   "execution_count": 1414,
   "id": "b5aa4c8f",
   "metadata": {},
   "outputs": [
    {
     "data": {
      "text/plain": [
       "<AxesSubplot:>"
      ]
     },
     "execution_count": 1414,
     "metadata": {},
     "output_type": "execute_result"
    },
    {
     "data": {
      "image/png": "[encoded data removed]",
      "text/plain": [
       "<Figure size 432x288 with 1 Axes>"
      ]
     },
     "metadata": {
      "needs_background": "light"
     },
     "output_type": "display_data"
    }
   ],
   "source": [
    "data[\"Spectral Class\"].value_counts().plot(kind=\"bar\")"
   ]
  },
  {
   "cell_type": "code",
   "execution_count": 1415,
   "id": "c40b821c",
   "metadata": {},
   "outputs": [],
   "source": [
    "### Temperture Distribution ###"
   ]
  },
  {
   "cell_type": "code",
   "execution_count": 107,
   "id": "110e0e97",
   "metadata": {},
   "outputs": [
    {
     "name": "stderr",
     "output_type": "stream",
     "text": [
      "/opt/anaconda3/lib/python3.9/site-packages/seaborn/_decorators.py:36: FutureWarning: Pass the following variable as a keyword arg: x. From version 0.12, the only valid positional argument will be `data`, and passing other arguments without an explicit keyword will result in an error or misinterpretation.\n",
      "  warnings.warn(\n"
     ]
    },
    {
     "data": {
      "text/plain": [
       "<AxesSubplot:xlabel='Temperature (K)'>"
      ]
     },
     "execution_count": 107,
     "metadata": {},
     "output_type": "execute_result"
    },
    {
     "data": {
      "image/png": "[encoded data removed]",
      "text/plain": [
       "<Figure size 432x288 with 1 Axes>"
      ]
     },
     "metadata": {
      "needs_background": "light"
     },
     "output_type": "display_data"
    }
   ],
   "source": [
    "sns.boxplot(temp_data)"
   ]
  },
  {
   "cell_type": "code",
   "execution_count": 1164,
   "id": "bba9dda6",
   "metadata": {},
   "outputs": [],
   "source": [
    "# remove outliers using Inter-Quartile Range #"
   ]
  },
  {
   "cell_type": "code",
   "execution_count": 1194,
   "id": "ec1c6054",
   "metadata": {},
   "outputs": [
    {
     "data": {
      "text/plain": [
       "0.25     3344.25\n",
       "0.75    15055.50\n",
       "Name: Temperature (K), dtype: float64"
      ]
     },
     "execution_count": 1194,
     "metadata": {},
     "output_type": "execute_result"
    }
   ],
   "source": [
    "t_iqr = iqr(temp_data)\n",
    "\n",
    "# below Q1 - 1.5IQR & above Q3 + 1.5IQR\n",
    "temp_data.quantile([0.25,0.75])"
   ]
  },
  {
   "cell_type": "code",
   "execution_count": 1195,
   "id": "9e5b5359",
   "metadata": {},
   "outputs": [
    {
     "data": {
      "text/plain": [
       "32622.375"
      ]
     },
     "execution_count": 1195,
     "metadata": {},
     "output_type": "execute_result"
    }
   ],
   "source": [
    "15055.50 + 1.5*t_iqr"
   ]
  },
  {
   "cell_type": "code",
   "execution_count": 1196,
   "id": "97cdfaad",
   "metadata": {},
   "outputs": [],
   "source": [
    "data = data[data[\"Temperature (K)\"]  < 32622.375]"
   ]
  },
  {
   "cell_type": "code",
   "execution_count": 1197,
   "id": "cfdab95d",
   "metadata": {},
   "outputs": [
    {
     "data": {
      "text/html": [
       "<div>\n",
       "<style scoped>\n",
       "    .dataframe tbody tr th:only-of-type {\n",
       "        vertical-align: middle;\n",
       "    }\n",
       "\n",
       "    .dataframe tbody tr th {\n",
       "        vertical-align: top;\n",
       "    }\n",
       "\n",
       "    .dataframe thead th {\n",
       "        text-align: right;\n",
       "    }\n",
       "</style>\n",
       "<table border=\"1\" class=\"dataframe\">\n",
       "  <thead>\n",
       "    <tr style=\"text-align: right;\">\n",
       "      <th></th>\n",
       "      <th>Temperature (K)</th>\n",
       "      <th>Luminosity(L/Lo)</th>\n",
       "      <th>Radius(R/Ro)</th>\n",
       "      <th>Absolute magnitude(Mv)</th>\n",
       "      <th>Star type</th>\n",
       "      <th>Star color</th>\n",
       "      <th>Spectral Class</th>\n",
       "    </tr>\n",
       "  </thead>\n",
       "  <tbody>\n",
       "    <tr>\n",
       "      <th>0</th>\n",
       "      <td>3068</td>\n",
       "      <td>0.002400</td>\n",
       "      <td>0.1700</td>\n",
       "      <td>16.12</td>\n",
       "      <td>0</td>\n",
       "      <td>Red</td>\n",
       "      <td>M</td>\n",
       "    </tr>\n",
       "    <tr>\n",
       "      <th>1</th>\n",
       "      <td>3042</td>\n",
       "      <td>0.000500</td>\n",
       "      <td>0.1542</td>\n",
       "      <td>16.60</td>\n",
       "      <td>0</td>\n",
       "      <td>Red</td>\n",
       "      <td>M</td>\n",
       "    </tr>\n",
       "    <tr>\n",
       "      <th>2</th>\n",
       "      <td>2600</td>\n",
       "      <td>0.000300</td>\n",
       "      <td>0.1020</td>\n",
       "      <td>18.70</td>\n",
       "      <td>0</td>\n",
       "      <td>Red</td>\n",
       "      <td>M</td>\n",
       "    </tr>\n",
       "    <tr>\n",
       "      <th>3</th>\n",
       "      <td>2800</td>\n",
       "      <td>0.000200</td>\n",
       "      <td>0.1600</td>\n",
       "      <td>16.65</td>\n",
       "      <td>0</td>\n",
       "      <td>Red</td>\n",
       "      <td>M</td>\n",
       "    </tr>\n",
       "    <tr>\n",
       "      <th>4</th>\n",
       "      <td>1939</td>\n",
       "      <td>0.000138</td>\n",
       "      <td>0.1030</td>\n",
       "      <td>20.06</td>\n",
       "      <td>0</td>\n",
       "      <td>Red</td>\n",
       "      <td>M</td>\n",
       "    </tr>\n",
       "    <tr>\n",
       "      <th>...</th>\n",
       "      <td>...</td>\n",
       "      <td>...</td>\n",
       "      <td>...</td>\n",
       "      <td>...</td>\n",
       "      <td>...</td>\n",
       "      <td>...</td>\n",
       "      <td>...</td>\n",
       "    </tr>\n",
       "    <tr>\n",
       "      <th>233</th>\n",
       "      <td>27739</td>\n",
       "      <td>849420.000000</td>\n",
       "      <td>1252.0000</td>\n",
       "      <td>-7.59</td>\n",
       "      <td>5</td>\n",
       "      <td>Blue-white</td>\n",
       "      <td>B</td>\n",
       "    </tr>\n",
       "    <tr>\n",
       "      <th>234</th>\n",
       "      <td>21904</td>\n",
       "      <td>748490.000000</td>\n",
       "      <td>1130.0000</td>\n",
       "      <td>-7.67</td>\n",
       "      <td>5</td>\n",
       "      <td>Blue-white</td>\n",
       "      <td>B</td>\n",
       "    </tr>\n",
       "    <tr>\n",
       "      <th>236</th>\n",
       "      <td>30839</td>\n",
       "      <td>834042.000000</td>\n",
       "      <td>1194.0000</td>\n",
       "      <td>-10.63</td>\n",
       "      <td>5</td>\n",
       "      <td>Blue</td>\n",
       "      <td>O</td>\n",
       "    </tr>\n",
       "    <tr>\n",
       "      <th>237</th>\n",
       "      <td>8829</td>\n",
       "      <td>537493.000000</td>\n",
       "      <td>1423.0000</td>\n",
       "      <td>-10.73</td>\n",
       "      <td>5</td>\n",
       "      <td>White</td>\n",
       "      <td>A</td>\n",
       "    </tr>\n",
       "    <tr>\n",
       "      <th>238</th>\n",
       "      <td>9235</td>\n",
       "      <td>404940.000000</td>\n",
       "      <td>1112.0000</td>\n",
       "      <td>-11.23</td>\n",
       "      <td>5</td>\n",
       "      <td>White</td>\n",
       "      <td>A</td>\n",
       "    </tr>\n",
       "  </tbody>\n",
       "</table>\n",
       "<p>229 rows × 7 columns</p>\n",
       "</div>"
      ],
      "text/plain": [
       "     Temperature (K)  Luminosity(L/Lo)  Radius(R/Ro)  Absolute magnitude(Mv)  \\\n",
       "0               3068          0.002400        0.1700                   16.12   \n",
       "1               3042          0.000500        0.1542                   16.60   \n",
       "2               2600          0.000300        0.1020                   18.70   \n",
       "3               2800          0.000200        0.1600                   16.65   \n",
       "4               1939          0.000138        0.1030                   20.06   \n",
       "..               ...               ...           ...                     ...   \n",
       "233            27739     849420.000000     1252.0000                   -7.59   \n",
       "234            21904     748490.000000     1130.0000                   -7.67   \n",
       "236            30839     834042.000000     1194.0000                  -10.63   \n",
       "237             8829     537493.000000     1423.0000                  -10.73   \n",
       "238             9235     404940.000000     1112.0000                  -11.23   \n",
       "\n",
       "     Star type  Star color Spectral Class  \n",
       "0            0         Red              M  \n",
       "1            0         Red              M  \n",
       "2            0         Red              M  \n",
       "3            0         Red              M  \n",
       "4            0         Red              M  \n",
       "..         ...         ...            ...  \n",
       "233          5  Blue-white              B  \n",
       "234          5  Blue-white              B  \n",
       "236          5        Blue              O  \n",
       "237          5       White              A  \n",
       "238          5       White              A  \n",
       "\n",
       "[229 rows x 7 columns]"
      ]
     },
     "execution_count": 1197,
     "metadata": {},
     "output_type": "execute_result"
    }
   ],
   "source": [
    "data"
   ]
  },
  {
   "cell_type": "code",
   "execution_count": 108,
   "id": "cdad689a",
   "metadata": {},
   "outputs": [
    {
     "name": "stderr",
     "output_type": "stream",
     "text": [
      "/opt/anaconda3/lib/python3.9/site-packages/seaborn/_decorators.py:36: FutureWarning: Pass the following variable as a keyword arg: x. From version 0.12, the only valid positional argument will be `data`, and passing other arguments without an explicit keyword will result in an error or misinterpretation.\n",
      "  warnings.warn(\n"
     ]
    },
    {
     "data": {
      "text/plain": [
       "<AxesSubplot:xlabel='Luminosity(L/Lo)'>"
      ]
     },
     "execution_count": 108,
     "metadata": {},
     "output_type": "execute_result"
    },
    {
     "data": {
      "image/png": "[encoded data removed]",
      "text/plain": [
       "<Figure size 432x288 with 1 Axes>"
      ]
     },
     "metadata": {
      "needs_background": "light"
     },
     "output_type": "display_data"
    }
   ],
   "source": [
    "sns.boxplot(lum_data)"
   ]
  },
  {
   "cell_type": "code",
   "execution_count": 1198,
   "id": "50475b39",
   "metadata": {},
   "outputs": [
    {
     "data": {
      "text/plain": [
       "0.25         0.000865\n",
       "0.75    198050.000000\n",
       "Name: Luminosity(L/Lo), dtype: float64"
      ]
     },
     "execution_count": 1198,
     "metadata": {},
     "output_type": "execute_result"
    }
   ],
   "source": [
    "l_iqr = iqr(lum_data)\n",
    "\n",
    "# below Q1 - 1.5IQR & above Q3 + 1.5IQR\n",
    "lum_data.quantile([0.25,0.75])"
   ]
  },
  {
   "cell_type": "code",
   "execution_count": 1199,
   "id": "1db7b124",
   "metadata": {},
   "outputs": [
    {
     "data": {
      "text/plain": [
       "495124.998702875"
      ]
     },
     "execution_count": 1199,
     "metadata": {},
     "output_type": "execute_result"
    }
   ],
   "source": [
    "198050.000000 + 1.5*l_iqr"
   ]
  },
  {
   "cell_type": "code",
   "execution_count": 1200,
   "id": "687b31e7",
   "metadata": {},
   "outputs": [
    {
     "data": {
      "text/html": [
       "<div>\n",
       "<style scoped>\n",
       "    .dataframe tbody tr th:only-of-type {\n",
       "        vertical-align: middle;\n",
       "    }\n",
       "\n",
       "    .dataframe tbody tr th {\n",
       "        vertical-align: top;\n",
       "    }\n",
       "\n",
       "    .dataframe thead th {\n",
       "        text-align: right;\n",
       "    }\n",
       "</style>\n",
       "<table border=\"1\" class=\"dataframe\">\n",
       "  <thead>\n",
       "    <tr style=\"text-align: right;\">\n",
       "      <th></th>\n",
       "      <th>Temperature (K)</th>\n",
       "      <th>Luminosity(L/Lo)</th>\n",
       "      <th>Radius(R/Ro)</th>\n",
       "      <th>Absolute magnitude(Mv)</th>\n",
       "      <th>Star type</th>\n",
       "      <th>Star color</th>\n",
       "      <th>Spectral Class</th>\n",
       "    </tr>\n",
       "  </thead>\n",
       "  <tbody>\n",
       "    <tr>\n",
       "      <th>0</th>\n",
       "      <td>3068</td>\n",
       "      <td>0.002400</td>\n",
       "      <td>0.1700</td>\n",
       "      <td>16.120</td>\n",
       "      <td>0</td>\n",
       "      <td>Red</td>\n",
       "      <td>M</td>\n",
       "    </tr>\n",
       "    <tr>\n",
       "      <th>1</th>\n",
       "      <td>3042</td>\n",
       "      <td>0.000500</td>\n",
       "      <td>0.1542</td>\n",
       "      <td>16.600</td>\n",
       "      <td>0</td>\n",
       "      <td>Red</td>\n",
       "      <td>M</td>\n",
       "    </tr>\n",
       "    <tr>\n",
       "      <th>2</th>\n",
       "      <td>2600</td>\n",
       "      <td>0.000300</td>\n",
       "      <td>0.1020</td>\n",
       "      <td>18.700</td>\n",
       "      <td>0</td>\n",
       "      <td>Red</td>\n",
       "      <td>M</td>\n",
       "    </tr>\n",
       "    <tr>\n",
       "      <th>3</th>\n",
       "      <td>2800</td>\n",
       "      <td>0.000200</td>\n",
       "      <td>0.1600</td>\n",
       "      <td>16.650</td>\n",
       "      <td>0</td>\n",
       "      <td>Red</td>\n",
       "      <td>M</td>\n",
       "    </tr>\n",
       "    <tr>\n",
       "      <th>4</th>\n",
       "      <td>1939</td>\n",
       "      <td>0.000138</td>\n",
       "      <td>0.1030</td>\n",
       "      <td>20.060</td>\n",
       "      <td>0</td>\n",
       "      <td>Red</td>\n",
       "      <td>M</td>\n",
       "    </tr>\n",
       "    <tr>\n",
       "      <th>...</th>\n",
       "      <td>...</td>\n",
       "      <td>...</td>\n",
       "      <td>...</td>\n",
       "      <td>...</td>\n",
       "      <td>...</td>\n",
       "      <td>...</td>\n",
       "      <td>...</td>\n",
       "    </tr>\n",
       "    <tr>\n",
       "      <th>224</th>\n",
       "      <td>16787</td>\n",
       "      <td>246730.000000</td>\n",
       "      <td>62.0000</td>\n",
       "      <td>-6.350</td>\n",
       "      <td>4</td>\n",
       "      <td>Blue</td>\n",
       "      <td>O</td>\n",
       "    </tr>\n",
       "    <tr>\n",
       "      <th>225</th>\n",
       "      <td>18734</td>\n",
       "      <td>224780.000000</td>\n",
       "      <td>46.0000</td>\n",
       "      <td>-7.450</td>\n",
       "      <td>4</td>\n",
       "      <td>Blue</td>\n",
       "      <td>O</td>\n",
       "    </tr>\n",
       "    <tr>\n",
       "      <th>228</th>\n",
       "      <td>23095</td>\n",
       "      <td>347820.000000</td>\n",
       "      <td>86.0000</td>\n",
       "      <td>-5.905</td>\n",
       "      <td>4</td>\n",
       "      <td>Blue</td>\n",
       "      <td>O</td>\n",
       "    </tr>\n",
       "    <tr>\n",
       "      <th>230</th>\n",
       "      <td>24145</td>\n",
       "      <td>382993.000000</td>\n",
       "      <td>1494.0000</td>\n",
       "      <td>-8.840</td>\n",
       "      <td>5</td>\n",
       "      <td>Blue-white</td>\n",
       "      <td>B</td>\n",
       "    </tr>\n",
       "    <tr>\n",
       "      <th>238</th>\n",
       "      <td>9235</td>\n",
       "      <td>404940.000000</td>\n",
       "      <td>1112.0000</td>\n",
       "      <td>-11.230</td>\n",
       "      <td>5</td>\n",
       "      <td>White</td>\n",
       "      <td>A</td>\n",
       "    </tr>\n",
       "  </tbody>\n",
       "</table>\n",
       "<p>218 rows × 7 columns</p>\n",
       "</div>"
      ],
      "text/plain": [
       "     Temperature (K)  Luminosity(L/Lo)  Radius(R/Ro)  Absolute magnitude(Mv)  \\\n",
       "0               3068          0.002400        0.1700                  16.120   \n",
       "1               3042          0.000500        0.1542                  16.600   \n",
       "2               2600          0.000300        0.1020                  18.700   \n",
       "3               2800          0.000200        0.1600                  16.650   \n",
       "4               1939          0.000138        0.1030                  20.060   \n",
       "..               ...               ...           ...                     ...   \n",
       "224            16787     246730.000000       62.0000                  -6.350   \n",
       "225            18734     224780.000000       46.0000                  -7.450   \n",
       "228            23095     347820.000000       86.0000                  -5.905   \n",
       "230            24145     382993.000000     1494.0000                  -8.840   \n",
       "238             9235     404940.000000     1112.0000                 -11.230   \n",
       "\n",
       "     Star type  Star color Spectral Class  \n",
       "0            0         Red              M  \n",
       "1            0         Red              M  \n",
       "2            0         Red              M  \n",
       "3            0         Red              M  \n",
       "4            0         Red              M  \n",
       "..         ...         ...            ...  \n",
       "224          4        Blue              O  \n",
       "225          4        Blue              O  \n",
       "228          4        Blue              O  \n",
       "230          5  Blue-white              B  \n",
       "238          5       White              A  \n",
       "\n",
       "[218 rows x 7 columns]"
      ]
     },
     "execution_count": 1200,
     "metadata": {},
     "output_type": "execute_result"
    }
   ],
   "source": [
    "data = data[data[\"Luminosity(L/Lo)\"]  < 495124.998702875]\n",
    "data"
   ]
  },
  {
   "cell_type": "code",
   "execution_count": 109,
   "id": "9503f98e",
   "metadata": {},
   "outputs": [
    {
     "name": "stderr",
     "output_type": "stream",
     "text": [
      "/opt/anaconda3/lib/python3.9/site-packages/seaborn/_decorators.py:36: FutureWarning: Pass the following variable as a keyword arg: x. From version 0.12, the only valid positional argument will be `data`, and passing other arguments without an explicit keyword will result in an error or misinterpretation.\n",
      "  warnings.warn(\n"
     ]
    },
    {
     "data": {
      "text/plain": [
       "<AxesSubplot:xlabel='Absolute magnitude(Mv)'>"
      ]
     },
     "execution_count": 109,
     "metadata": {},
     "output_type": "execute_result"
    },
    {
     "data": {
      "image/png": "[encoded data removed]",
      "text/plain": [
       "<Figure size 432x288 with 1 Axes>"
      ]
     },
     "metadata": {
      "needs_background": "light"
     },
     "output_type": "display_data"
    }
   ],
   "source": [
    "sns.boxplot(abs_data)"
   ]
  },
  {
   "cell_type": "code",
   "execution_count": 110,
   "id": "e5fae3ea",
   "metadata": {},
   "outputs": [
    {
     "name": "stderr",
     "output_type": "stream",
     "text": [
      "/opt/anaconda3/lib/python3.9/site-packages/seaborn/_decorators.py:36: FutureWarning: Pass the following variable as a keyword arg: x. From version 0.12, the only valid positional argument will be `data`, and passing other arguments without an explicit keyword will result in an error or misinterpretation.\n",
      "  warnings.warn(\n"
     ]
    },
    {
     "data": {
      "text/plain": [
       "<AxesSubplot:xlabel='Radius(R/Ro)'>"
      ]
     },
     "execution_count": 110,
     "metadata": {},
     "output_type": "execute_result"
    },
    {
     "data": {
      "image/png": "[encoded data removed]",
      "text/plain": [
       "<Figure size 432x288 with 1 Axes>"
      ]
     },
     "metadata": {
      "needs_background": "light"
     },
     "output_type": "display_data"
    }
   ],
   "source": [
    "sns.boxplot(rad_data)"
   ]
  },
  {
   "cell_type": "code",
   "execution_count": 1201,
   "id": "c0245a4d",
   "metadata": {},
   "outputs": [
    {
     "data": {
      "text/plain": [
       "0.25     0.10275\n",
       "0.75    42.75000\n",
       "Name: Radius(R/Ro), dtype: float64"
      ]
     },
     "execution_count": 1201,
     "metadata": {},
     "output_type": "execute_result"
    }
   ],
   "source": [
    "r_iqr = iqr(rad_data)\n",
    "\n",
    "# below Q1 - 1.5IQR & above Q3 + 1.5IQR\n",
    "rad_data.quantile([0.25,0.75])"
   ]
  },
  {
   "cell_type": "code",
   "execution_count": 1202,
   "id": "bafe96f1",
   "metadata": {},
   "outputs": [
    {
     "data": {
      "text/plain": [
       "106.720875"
      ]
     },
     "execution_count": 1202,
     "metadata": {},
     "output_type": "execute_result"
    }
   ],
   "source": [
    "42.75000 + 1.5*r_iqr"
   ]
  },
  {
   "cell_type": "code",
   "execution_count": 1203,
   "id": "2938e711",
   "metadata": {},
   "outputs": [
    {
     "data": {
      "text/html": [
       "<div>\n",
       "<style scoped>\n",
       "    .dataframe tbody tr th:only-of-type {\n",
       "        vertical-align: middle;\n",
       "    }\n",
       "\n",
       "    .dataframe tbody tr th {\n",
       "        vertical-align: top;\n",
       "    }\n",
       "\n",
       "    .dataframe thead th {\n",
       "        text-align: right;\n",
       "    }\n",
       "</style>\n",
       "<table border=\"1\" class=\"dataframe\">\n",
       "  <thead>\n",
       "    <tr style=\"text-align: right;\">\n",
       "      <th></th>\n",
       "      <th>Temperature (K)</th>\n",
       "      <th>Luminosity(L/Lo)</th>\n",
       "      <th>Radius(R/Ro)</th>\n",
       "      <th>Absolute magnitude(Mv)</th>\n",
       "      <th>Star type</th>\n",
       "      <th>Star color</th>\n",
       "      <th>Spectral Class</th>\n",
       "    </tr>\n",
       "  </thead>\n",
       "  <tbody>\n",
       "    <tr>\n",
       "      <th>0</th>\n",
       "      <td>3068</td>\n",
       "      <td>0.002400</td>\n",
       "      <td>0.1700</td>\n",
       "      <td>16.120</td>\n",
       "      <td>0</td>\n",
       "      <td>Red</td>\n",
       "      <td>M</td>\n",
       "    </tr>\n",
       "    <tr>\n",
       "      <th>1</th>\n",
       "      <td>3042</td>\n",
       "      <td>0.000500</td>\n",
       "      <td>0.1542</td>\n",
       "      <td>16.600</td>\n",
       "      <td>0</td>\n",
       "      <td>Red</td>\n",
       "      <td>M</td>\n",
       "    </tr>\n",
       "    <tr>\n",
       "      <th>2</th>\n",
       "      <td>2600</td>\n",
       "      <td>0.000300</td>\n",
       "      <td>0.1020</td>\n",
       "      <td>18.700</td>\n",
       "      <td>0</td>\n",
       "      <td>Red</td>\n",
       "      <td>M</td>\n",
       "    </tr>\n",
       "    <tr>\n",
       "      <th>3</th>\n",
       "      <td>2800</td>\n",
       "      <td>0.000200</td>\n",
       "      <td>0.1600</td>\n",
       "      <td>16.650</td>\n",
       "      <td>0</td>\n",
       "      <td>Red</td>\n",
       "      <td>M</td>\n",
       "    </tr>\n",
       "    <tr>\n",
       "      <th>4</th>\n",
       "      <td>1939</td>\n",
       "      <td>0.000138</td>\n",
       "      <td>0.1030</td>\n",
       "      <td>20.060</td>\n",
       "      <td>0</td>\n",
       "      <td>Red</td>\n",
       "      <td>M</td>\n",
       "    </tr>\n",
       "    <tr>\n",
       "      <th>...</th>\n",
       "      <td>...</td>\n",
       "      <td>...</td>\n",
       "      <td>...</td>\n",
       "      <td>...</td>\n",
       "      <td>...</td>\n",
       "      <td>...</td>\n",
       "      <td>...</td>\n",
       "    </tr>\n",
       "    <tr>\n",
       "      <th>221</th>\n",
       "      <td>12749</td>\n",
       "      <td>332520.000000</td>\n",
       "      <td>76.0000</td>\n",
       "      <td>-7.020</td>\n",
       "      <td>4</td>\n",
       "      <td>Blue</td>\n",
       "      <td>O</td>\n",
       "    </tr>\n",
       "    <tr>\n",
       "      <th>222</th>\n",
       "      <td>9383</td>\n",
       "      <td>342940.000000</td>\n",
       "      <td>98.0000</td>\n",
       "      <td>-6.980</td>\n",
       "      <td>4</td>\n",
       "      <td>Blue</td>\n",
       "      <td>O</td>\n",
       "    </tr>\n",
       "    <tr>\n",
       "      <th>224</th>\n",
       "      <td>16787</td>\n",
       "      <td>246730.000000</td>\n",
       "      <td>62.0000</td>\n",
       "      <td>-6.350</td>\n",
       "      <td>4</td>\n",
       "      <td>Blue</td>\n",
       "      <td>O</td>\n",
       "    </tr>\n",
       "    <tr>\n",
       "      <th>225</th>\n",
       "      <td>18734</td>\n",
       "      <td>224780.000000</td>\n",
       "      <td>46.0000</td>\n",
       "      <td>-7.450</td>\n",
       "      <td>4</td>\n",
       "      <td>Blue</td>\n",
       "      <td>O</td>\n",
       "    </tr>\n",
       "    <tr>\n",
       "      <th>228</th>\n",
       "      <td>23095</td>\n",
       "      <td>347820.000000</td>\n",
       "      <td>86.0000</td>\n",
       "      <td>-5.905</td>\n",
       "      <td>4</td>\n",
       "      <td>Blue</td>\n",
       "      <td>O</td>\n",
       "    </tr>\n",
       "  </tbody>\n",
       "</table>\n",
       "<p>188 rows × 7 columns</p>\n",
       "</div>"
      ],
      "text/plain": [
       "     Temperature (K)  Luminosity(L/Lo)  Radius(R/Ro)  Absolute magnitude(Mv)  \\\n",
       "0               3068          0.002400        0.1700                  16.120   \n",
       "1               3042          0.000500        0.1542                  16.600   \n",
       "2               2600          0.000300        0.1020                  18.700   \n",
       "3               2800          0.000200        0.1600                  16.650   \n",
       "4               1939          0.000138        0.1030                  20.060   \n",
       "..               ...               ...           ...                     ...   \n",
       "221            12749     332520.000000       76.0000                  -7.020   \n",
       "222             9383     342940.000000       98.0000                  -6.980   \n",
       "224            16787     246730.000000       62.0000                  -6.350   \n",
       "225            18734     224780.000000       46.0000                  -7.450   \n",
       "228            23095     347820.000000       86.0000                  -5.905   \n",
       "\n",
       "     Star type Star color Spectral Class  \n",
       "0            0        Red              M  \n",
       "1            0        Red              M  \n",
       "2            0        Red              M  \n",
       "3            0        Red              M  \n",
       "4            0        Red              M  \n",
       "..         ...        ...            ...  \n",
       "221          4       Blue              O  \n",
       "222          4       Blue              O  \n",
       "224          4       Blue              O  \n",
       "225          4       Blue              O  \n",
       "228          4       Blue              O  \n",
       "\n",
       "[188 rows x 7 columns]"
      ]
     },
     "execution_count": 1203,
     "metadata": {},
     "output_type": "execute_result"
    }
   ],
   "source": [
    "data = data[data[\"Radius(R/Ro)\"]  < 106.720875]\n",
    "data"
   ]
  },
  {
   "cell_type": "code",
   "execution_count": 111,
   "id": "48688676",
   "metadata": {},
   "outputs": [],
   "source": [
    "### Data Heat Map ###"
   ]
  },
  {
   "cell_type": "code",
   "execution_count": 1498,
   "id": "93dab70f",
   "metadata": {},
   "outputs": [
    {
     "data": {
      "text/plain": [
       "<AxesSubplot:>"
      ]
     },
     "execution_count": 1498,
     "metadata": {},
     "output_type": "execute_result"
    },
    {
     "data": {
      "image/png": "[encoded data removed]",
      "text/plain": [
       "<Figure size 432x288 with 2 Axes>"
      ]
     },
     "metadata": {
      "needs_background": "light"
     },
     "output_type": "display_data"
    }
   ],
   "source": [
    "sns.heatmap(data[[\"Temperature (K)\", \"Luminosity(L/Lo)\", \"Radius(R/Ro)\", \"Absolute magnitude(Mv)\"]].corr(), center=1, annot=True)"
   ]
  },
  {
   "cell_type": "code",
   "execution_count": 1205,
   "id": "e3fa8092",
   "metadata": {},
   "outputs": [],
   "source": [
    "temp_data = data[\"Temperature (K)\"]\n",
    "lum_data = data[\"Luminosity(L/Lo)\"]\n",
    "abs_data = data[\"Absolute magnitude(Mv)\"]\n",
    "rad_data = data[\"Radius(R/Ro)\"]\n",
    "type_data = data[\"Star type\"]\n",
    "color_data = data[\"Star color\"]\n",
    "spec_data = data[\"Spectral Class\"]\n",
    "num_values = data[[\"Temperature (K)\", \"Luminosity(L/Lo)\", \"Absolute magnitude(Mv)\", \"Radius(R/Ro)\"]]"
   ]
  },
  {
   "cell_type": "code",
   "execution_count": 1206,
   "id": "7a25cce7",
   "metadata": {},
   "outputs": [],
   "source": [
    "### Non-Parametric Spearman Correlation Significance Tests ###"
   ]
  },
  {
   "cell_type": "code",
   "execution_count": 1207,
   "id": "e6681e68",
   "metadata": {},
   "outputs": [
    {
     "data": {
      "text/plain": [
       "SpearmanrResult(correlation=0.46088207010218507, pvalue=2.8224586370392474e-11)"
      ]
     },
     "execution_count": 1207,
     "metadata": {},
     "output_type": "execute_result"
    }
   ],
   "source": [
    "spearman = spearmanr(temp_data, lum_data)\n",
    "spearman"
   ]
  },
  {
   "cell_type": "code",
   "execution_count": 1208,
   "id": "295e7571",
   "metadata": {},
   "outputs": [
    {
     "data": {
      "text/plain": [
       "SpearmanrResult(correlation=-0.6347930090528383, pvalue=1.3451839986072872e-22)"
      ]
     },
     "execution_count": 1208,
     "metadata": {},
     "output_type": "execute_result"
    }
   ],
   "source": [
    "spearman2 = spearmanr(temp_data, abs_data)\n",
    "spearman2"
   ]
  },
  {
   "cell_type": "code",
   "execution_count": 1209,
   "id": "559fac5c",
   "metadata": {},
   "outputs": [
    {
     "data": {
      "text/plain": [
       "SpearmanrResult(correlation=0.18728558954504293, pvalue=0.01006414251454039)"
      ]
     },
     "execution_count": 1209,
     "metadata": {},
     "output_type": "execute_result"
    }
   ],
   "source": [
    "spearman3 = spearmanr(temp_data, rad_data)\n",
    "spearman3"
   ]
  },
  {
   "cell_type": "code",
   "execution_count": 1210,
   "id": "e1f40a9f",
   "metadata": {},
   "outputs": [
    {
     "data": {
      "text/plain": [
       "SpearmanrResult(correlation=-0.8606398719408009, pvalue=2.062782189231838e-56)"
      ]
     },
     "execution_count": 1210,
     "metadata": {},
     "output_type": "execute_result"
    }
   ],
   "source": [
    "spearman4 = spearmanr(lum_data, abs_data)\n",
    "spearman4"
   ]
  },
  {
   "cell_type": "code",
   "execution_count": 1211,
   "id": "59fa6a84",
   "metadata": {},
   "outputs": [
    {
     "data": {
      "text/plain": [
       "SpearmanrResult(correlation=0.8507283361657095, pvalue=7.56303346230417e-54)"
      ]
     },
     "execution_count": 1211,
     "metadata": {},
     "output_type": "execute_result"
    }
   ],
   "source": [
    "spearman5 = spearmanr(lum_data, rad_data)\n",
    "spearman5"
   ]
  },
  {
   "cell_type": "code",
   "execution_count": 1212,
   "id": "4777d8a6",
   "metadata": {},
   "outputs": [
    {
     "data": {
      "text/plain": [
       "SpearmanrResult(correlation=-0.7356937968540005, pvalue=2.660416044673791e-33)"
      ]
     },
     "execution_count": 1212,
     "metadata": {},
     "output_type": "execute_result"
    }
   ],
   "source": [
    "spearman6 = spearmanr(abs_data, rad_data)\n",
    "spearman6"
   ]
  },
  {
   "cell_type": "code",
   "execution_count": 1213,
   "id": "958f109f",
   "metadata": {},
   "outputs": [],
   "source": [
    "spear_correlation_list = [spearman[0], spearman2[0], spearman3[0], spearman4[0], spearman5[0], spearman6[0]]\n",
    "spear_pvalue_list = [spearman[1], spearman2[1], spearman3[1], spearman4[1], spearman5[1], spearman6[1]]\n",
    "spear_zip_list = list(zip(spear_correlation_list, spear_pvalue_list))\n",
    "spearman_data = pd.DataFrame(spear_zip_list, columns=[\"Spear Correlation Value\", \"P-Value\"])"
   ]
  },
  {
   "cell_type": "code",
   "execution_count": 1214,
   "id": "fbfe60c7",
   "metadata": {},
   "outputs": [],
   "source": [
    "spearman_data[\"Paired Data\"] = [\"Temp Vs Lum\", \"Temp Vs Abs\", \"Temp Vs Rad\", \"Lum Vs Abs\", \"Lum Vs Rad\", \"Abs Vs Rad\"]"
   ]
  },
  {
   "cell_type": "code",
   "execution_count": 1215,
   "id": "a3d0a209",
   "metadata": {},
   "outputs": [
    {
     "data": {
      "text/html": [
       "<div>\n",
       "<style scoped>\n",
       "    .dataframe tbody tr th:only-of-type {\n",
       "        vertical-align: middle;\n",
       "    }\n",
       "\n",
       "    .dataframe tbody tr th {\n",
       "        vertical-align: top;\n",
       "    }\n",
       "\n",
       "    .dataframe thead th {\n",
       "        text-align: right;\n",
       "    }\n",
       "</style>\n",
       "<table border=\"1\" class=\"dataframe\">\n",
       "  <thead>\n",
       "    <tr style=\"text-align: right;\">\n",
       "      <th></th>\n",
       "      <th>Paired Data</th>\n",
       "      <th>Spear Correlation Value</th>\n",
       "      <th>P-Value</th>\n",
       "    </tr>\n",
       "  </thead>\n",
       "  <tbody>\n",
       "    <tr>\n",
       "      <th>0</th>\n",
       "      <td>Temp Vs Lum</td>\n",
       "      <td>0.460882</td>\n",
       "      <td>2.822459e-11</td>\n",
       "    </tr>\n",
       "    <tr>\n",
       "      <th>1</th>\n",
       "      <td>Temp Vs Abs</td>\n",
       "      <td>-0.634793</td>\n",
       "      <td>1.345184e-22</td>\n",
       "    </tr>\n",
       "    <tr>\n",
       "      <th>2</th>\n",
       "      <td>Temp Vs Rad</td>\n",
       "      <td>0.187286</td>\n",
       "      <td>1.006414e-02</td>\n",
       "    </tr>\n",
       "    <tr>\n",
       "      <th>3</th>\n",
       "      <td>Lum Vs Abs</td>\n",
       "      <td>-0.860640</td>\n",
       "      <td>2.062782e-56</td>\n",
       "    </tr>\n",
       "    <tr>\n",
       "      <th>4</th>\n",
       "      <td>Lum Vs Rad</td>\n",
       "      <td>0.850728</td>\n",
       "      <td>7.563033e-54</td>\n",
       "    </tr>\n",
       "    <tr>\n",
       "      <th>5</th>\n",
       "      <td>Abs Vs Rad</td>\n",
       "      <td>-0.735694</td>\n",
       "      <td>2.660416e-33</td>\n",
       "    </tr>\n",
       "  </tbody>\n",
       "</table>\n",
       "</div>"
      ],
      "text/plain": [
       "   Paired Data  Spear Correlation Value       P-Value\n",
       "0  Temp Vs Lum                 0.460882  2.822459e-11\n",
       "1  Temp Vs Abs                -0.634793  1.345184e-22\n",
       "2  Temp Vs Rad                 0.187286  1.006414e-02\n",
       "3   Lum Vs Abs                -0.860640  2.062782e-56\n",
       "4   Lum Vs Rad                 0.850728  7.563033e-54\n",
       "5   Abs Vs Rad                -0.735694  2.660416e-33"
      ]
     },
     "execution_count": 1215,
     "metadata": {},
     "output_type": "execute_result"
    }
   ],
   "source": [
    "spearman_data = spearman_data[[\"Paired Data\", \"Spear Correlation Value\", \"P-Value\"]]\n",
    "spearman_data"
   ]
  },
  {
   "cell_type": "code",
   "execution_count": 147,
   "id": "1f027642",
   "metadata": {},
   "outputs": [],
   "source": [
    "### Non-Parametric Kruskal-Wallis Significance Tests ###"
   ]
  },
  {
   "cell_type": "code",
   "execution_count": 150,
   "id": "d4d0e864",
   "metadata": {},
   "outputs": [
    {
     "data": {
      "text/html": [
       "<div>\n",
       "<style scoped>\n",
       "    .dataframe tbody tr th:only-of-type {\n",
       "        vertical-align: middle;\n",
       "    }\n",
       "\n",
       "    .dataframe tbody tr th {\n",
       "        vertical-align: top;\n",
       "    }\n",
       "\n",
       "    .dataframe thead th {\n",
       "        text-align: right;\n",
       "    }\n",
       "</style>\n",
       "<table border=\"1\" class=\"dataframe\">\n",
       "  <thead>\n",
       "    <tr style=\"text-align: right;\">\n",
       "      <th></th>\n",
       "      <th>Temperature (K)</th>\n",
       "      <th>Star color</th>\n",
       "    </tr>\n",
       "  </thead>\n",
       "  <tbody>\n",
       "    <tr>\n",
       "      <th>0</th>\n",
       "      <td>3068</td>\n",
       "      <td>Red</td>\n",
       "    </tr>\n",
       "    <tr>\n",
       "      <th>1</th>\n",
       "      <td>3042</td>\n",
       "      <td>Red</td>\n",
       "    </tr>\n",
       "    <tr>\n",
       "      <th>2</th>\n",
       "      <td>2600</td>\n",
       "      <td>Red</td>\n",
       "    </tr>\n",
       "    <tr>\n",
       "      <th>3</th>\n",
       "      <td>2800</td>\n",
       "      <td>Red</td>\n",
       "    </tr>\n",
       "    <tr>\n",
       "      <th>4</th>\n",
       "      <td>1939</td>\n",
       "      <td>Red</td>\n",
       "    </tr>\n",
       "    <tr>\n",
       "      <th>...</th>\n",
       "      <td>...</td>\n",
       "      <td>...</td>\n",
       "    </tr>\n",
       "    <tr>\n",
       "      <th>235</th>\n",
       "      <td>38940</td>\n",
       "      <td>Blue</td>\n",
       "    </tr>\n",
       "    <tr>\n",
       "      <th>236</th>\n",
       "      <td>30839</td>\n",
       "      <td>Blue</td>\n",
       "    </tr>\n",
       "    <tr>\n",
       "      <th>237</th>\n",
       "      <td>8829</td>\n",
       "      <td>White</td>\n",
       "    </tr>\n",
       "    <tr>\n",
       "      <th>238</th>\n",
       "      <td>9235</td>\n",
       "      <td>White</td>\n",
       "    </tr>\n",
       "    <tr>\n",
       "      <th>239</th>\n",
       "      <td>37882</td>\n",
       "      <td>Blue</td>\n",
       "    </tr>\n",
       "  </tbody>\n",
       "</table>\n",
       "<p>240 rows × 2 columns</p>\n",
       "</div>"
      ],
      "text/plain": [
       "     Temperature (K) Star color\n",
       "0               3068        Red\n",
       "1               3042        Red\n",
       "2               2600        Red\n",
       "3               2800        Red\n",
       "4               1939        Red\n",
       "..               ...        ...\n",
       "235            38940       Blue\n",
       "236            30839       Blue\n",
       "237             8829      White\n",
       "238             9235      White\n",
       "239            37882       Blue\n",
       "\n",
       "[240 rows x 2 columns]"
      ]
     },
     "execution_count": 150,
     "metadata": {},
     "output_type": "execute_result"
    }
   ],
   "source": [
    "data[[\"Temperature (K)\", \"Star color\"]]"
   ]
  },
  {
   "cell_type": "code",
   "execution_count": 1216,
   "id": "560c34ac",
   "metadata": {},
   "outputs": [
    {
     "data": {
      "text/html": [
       "<div>\n",
       "<style scoped>\n",
       "    .dataframe tbody tr th:only-of-type {\n",
       "        vertical-align: middle;\n",
       "    }\n",
       "\n",
       "    .dataframe tbody tr th {\n",
       "        vertical-align: top;\n",
       "    }\n",
       "\n",
       "    .dataframe thead th {\n",
       "        text-align: right;\n",
       "    }\n",
       "</style>\n",
       "<table border=\"1\" class=\"dataframe\">\n",
       "  <thead>\n",
       "    <tr style=\"text-align: right;\">\n",
       "      <th></th>\n",
       "      <th>Source</th>\n",
       "      <th>ddof1</th>\n",
       "      <th>H</th>\n",
       "      <th>p-unc</th>\n",
       "    </tr>\n",
       "  </thead>\n",
       "  <tbody>\n",
       "    <tr>\n",
       "      <th>Kruskal</th>\n",
       "      <td>Star type</td>\n",
       "      <td>4</td>\n",
       "      <td>131.608687</td>\n",
       "      <td>1.763362e-27</td>\n",
       "    </tr>\n",
       "  </tbody>\n",
       "</table>\n",
       "</div>"
      ],
      "text/plain": [
       "            Source  ddof1           H         p-unc\n",
       "Kruskal  Star type      4  131.608687  1.763362e-27"
      ]
     },
     "execution_count": 1216,
     "metadata": {},
     "output_type": "execute_result"
    }
   ],
   "source": [
    "kru1 = kruskal(data=data, dv=\"Temperature (K)\", between=\"Star type\")\n",
    "kru1"
   ]
  },
  {
   "cell_type": "code",
   "execution_count": 1217,
   "id": "8bbfb0bb",
   "metadata": {},
   "outputs": [
    {
     "data": {
      "text/html": [
       "<div>\n",
       "<style scoped>\n",
       "    .dataframe tbody tr th:only-of-type {\n",
       "        vertical-align: middle;\n",
       "    }\n",
       "\n",
       "    .dataframe tbody tr th {\n",
       "        vertical-align: top;\n",
       "    }\n",
       "\n",
       "    .dataframe thead th {\n",
       "        text-align: right;\n",
       "    }\n",
       "</style>\n",
       "<table border=\"1\" class=\"dataframe\">\n",
       "  <thead>\n",
       "    <tr style=\"text-align: right;\">\n",
       "      <th></th>\n",
       "      <th>Source</th>\n",
       "      <th>ddof1</th>\n",
       "      <th>H</th>\n",
       "      <th>p-unc</th>\n",
       "    </tr>\n",
       "  </thead>\n",
       "  <tbody>\n",
       "    <tr>\n",
       "      <th>Kruskal</th>\n",
       "      <td>Star type</td>\n",
       "      <td>4</td>\n",
       "      <td>153.665612</td>\n",
       "      <td>3.335025e-32</td>\n",
       "    </tr>\n",
       "  </tbody>\n",
       "</table>\n",
       "</div>"
      ],
      "text/plain": [
       "            Source  ddof1           H         p-unc\n",
       "Kruskal  Star type      4  153.665612  3.335025e-32"
      ]
     },
     "execution_count": 1217,
     "metadata": {},
     "output_type": "execute_result"
    }
   ],
   "source": [
    "kru2 = kruskal(data=data, dv=\"Luminosity(L/Lo)\", between=\"Star type\")\n",
    "kru2"
   ]
  },
  {
   "cell_type": "code",
   "execution_count": 1218,
   "id": "61624cb1",
   "metadata": {},
   "outputs": [
    {
     "data": {
      "text/html": [
       "<div>\n",
       "<style scoped>\n",
       "    .dataframe tbody tr th:only-of-type {\n",
       "        vertical-align: middle;\n",
       "    }\n",
       "\n",
       "    .dataframe tbody tr th {\n",
       "        vertical-align: top;\n",
       "    }\n",
       "\n",
       "    .dataframe thead th {\n",
       "        text-align: right;\n",
       "    }\n",
       "</style>\n",
       "<table border=\"1\" class=\"dataframe\">\n",
       "  <thead>\n",
       "    <tr style=\"text-align: right;\">\n",
       "      <th></th>\n",
       "      <th>Source</th>\n",
       "      <th>ddof1</th>\n",
       "      <th>H</th>\n",
       "      <th>p-unc</th>\n",
       "    </tr>\n",
       "  </thead>\n",
       "  <tbody>\n",
       "    <tr>\n",
       "      <th>Kruskal</th>\n",
       "      <td>Star type</td>\n",
       "      <td>4</td>\n",
       "      <td>168.566269</td>\n",
       "      <td>2.124042e-35</td>\n",
       "    </tr>\n",
       "  </tbody>\n",
       "</table>\n",
       "</div>"
      ],
      "text/plain": [
       "            Source  ddof1           H         p-unc\n",
       "Kruskal  Star type      4  168.566269  2.124042e-35"
      ]
     },
     "execution_count": 1218,
     "metadata": {},
     "output_type": "execute_result"
    }
   ],
   "source": [
    "kru3 = kruskal(data=data, dv=\"Absolute magnitude(Mv)\", between=\"Star type\")\n",
    "kru3"
   ]
  },
  {
   "cell_type": "code",
   "execution_count": 1219,
   "id": "7a2dd490",
   "metadata": {},
   "outputs": [
    {
     "data": {
      "text/html": [
       "<div>\n",
       "<style scoped>\n",
       "    .dataframe tbody tr th:only-of-type {\n",
       "        vertical-align: middle;\n",
       "    }\n",
       "\n",
       "    .dataframe tbody tr th {\n",
       "        vertical-align: top;\n",
       "    }\n",
       "\n",
       "    .dataframe thead th {\n",
       "        text-align: right;\n",
       "    }\n",
       "</style>\n",
       "<table border=\"1\" class=\"dataframe\">\n",
       "  <thead>\n",
       "    <tr style=\"text-align: right;\">\n",
       "      <th></th>\n",
       "      <th>Source</th>\n",
       "      <th>ddof1</th>\n",
       "      <th>H</th>\n",
       "      <th>p-unc</th>\n",
       "    </tr>\n",
       "  </thead>\n",
       "  <tbody>\n",
       "    <tr>\n",
       "      <th>Kruskal</th>\n",
       "      <td>Star type</td>\n",
       "      <td>4</td>\n",
       "      <td>178.381032</td>\n",
       "      <td>1.660397e-37</td>\n",
       "    </tr>\n",
       "  </tbody>\n",
       "</table>\n",
       "</div>"
      ],
      "text/plain": [
       "            Source  ddof1           H         p-unc\n",
       "Kruskal  Star type      4  178.381032  1.660397e-37"
      ]
     },
     "execution_count": 1219,
     "metadata": {},
     "output_type": "execute_result"
    }
   ],
   "source": [
    "kru4 = kruskal(data=data, dv=\"Radius(R/Ro)\", between=\"Star type\")\n",
    "kru4"
   ]
  },
  {
   "cell_type": "code",
   "execution_count": 160,
   "id": "d7717f31",
   "metadata": {},
   "outputs": [],
   "source": [
    "### Stratified Sampling and Modeling ###"
   ]
  },
  {
   "cell_type": "code",
   "execution_count": 1425,
   "id": "81ce7998",
   "metadata": {},
   "outputs": [],
   "source": [
    "folds = StratifiedKFold(n_splits=3)"
   ]
  },
  {
   "cell_type": "code",
   "execution_count": 1426,
   "id": "06223c80",
   "metadata": {},
   "outputs": [
    {
     "data": {
      "text/html": [
       "<div>\n",
       "<style scoped>\n",
       "    .dataframe tbody tr th:only-of-type {\n",
       "        vertical-align: middle;\n",
       "    }\n",
       "\n",
       "    .dataframe tbody tr th {\n",
       "        vertical-align: top;\n",
       "    }\n",
       "\n",
       "    .dataframe thead th {\n",
       "        text-align: right;\n",
       "    }\n",
       "</style>\n",
       "<table border=\"1\" class=\"dataframe\">\n",
       "  <thead>\n",
       "    <tr style=\"text-align: right;\">\n",
       "      <th></th>\n",
       "      <th>Temperature (K)</th>\n",
       "      <th>Luminosity(L/Lo)</th>\n",
       "      <th>Radius(R/Ro)</th>\n",
       "      <th>Absolute magnitude(Mv)</th>\n",
       "      <th>Spectral Class</th>\n",
       "      <th>Star color</th>\n",
       "    </tr>\n",
       "  </thead>\n",
       "  <tbody>\n",
       "    <tr>\n",
       "      <th>0</th>\n",
       "      <td>3068</td>\n",
       "      <td>0.002400</td>\n",
       "      <td>0.1700</td>\n",
       "      <td>16.12</td>\n",
       "      <td>M</td>\n",
       "      <td>Red</td>\n",
       "    </tr>\n",
       "    <tr>\n",
       "      <th>1</th>\n",
       "      <td>3042</td>\n",
       "      <td>0.000500</td>\n",
       "      <td>0.1542</td>\n",
       "      <td>16.60</td>\n",
       "      <td>M</td>\n",
       "      <td>Red</td>\n",
       "    </tr>\n",
       "    <tr>\n",
       "      <th>2</th>\n",
       "      <td>2600</td>\n",
       "      <td>0.000300</td>\n",
       "      <td>0.1020</td>\n",
       "      <td>18.70</td>\n",
       "      <td>M</td>\n",
       "      <td>Red</td>\n",
       "    </tr>\n",
       "    <tr>\n",
       "      <th>3</th>\n",
       "      <td>2800</td>\n",
       "      <td>0.000200</td>\n",
       "      <td>0.1600</td>\n",
       "      <td>16.65</td>\n",
       "      <td>M</td>\n",
       "      <td>Red</td>\n",
       "    </tr>\n",
       "    <tr>\n",
       "      <th>4</th>\n",
       "      <td>1939</td>\n",
       "      <td>0.000138</td>\n",
       "      <td>0.1030</td>\n",
       "      <td>20.06</td>\n",
       "      <td>M</td>\n",
       "      <td>Red</td>\n",
       "    </tr>\n",
       "    <tr>\n",
       "      <th>...</th>\n",
       "      <td>...</td>\n",
       "      <td>...</td>\n",
       "      <td>...</td>\n",
       "      <td>...</td>\n",
       "      <td>...</td>\n",
       "      <td>...</td>\n",
       "    </tr>\n",
       "    <tr>\n",
       "      <th>235</th>\n",
       "      <td>38940</td>\n",
       "      <td>374830.000000</td>\n",
       "      <td>1356.0000</td>\n",
       "      <td>-9.93</td>\n",
       "      <td>O</td>\n",
       "      <td>Blue</td>\n",
       "    </tr>\n",
       "    <tr>\n",
       "      <th>236</th>\n",
       "      <td>30839</td>\n",
       "      <td>834042.000000</td>\n",
       "      <td>1194.0000</td>\n",
       "      <td>-10.63</td>\n",
       "      <td>O</td>\n",
       "      <td>Blue</td>\n",
       "    </tr>\n",
       "    <tr>\n",
       "      <th>237</th>\n",
       "      <td>8829</td>\n",
       "      <td>537493.000000</td>\n",
       "      <td>1423.0000</td>\n",
       "      <td>-10.73</td>\n",
       "      <td>A</td>\n",
       "      <td>White</td>\n",
       "    </tr>\n",
       "    <tr>\n",
       "      <th>238</th>\n",
       "      <td>9235</td>\n",
       "      <td>404940.000000</td>\n",
       "      <td>1112.0000</td>\n",
       "      <td>-11.23</td>\n",
       "      <td>A</td>\n",
       "      <td>White</td>\n",
       "    </tr>\n",
       "    <tr>\n",
       "      <th>239</th>\n",
       "      <td>37882</td>\n",
       "      <td>294903.000000</td>\n",
       "      <td>1783.0000</td>\n",
       "      <td>-7.80</td>\n",
       "      <td>O</td>\n",
       "      <td>Blue</td>\n",
       "    </tr>\n",
       "  </tbody>\n",
       "</table>\n",
       "<p>240 rows × 6 columns</p>\n",
       "</div>"
      ],
      "text/plain": [
       "     Temperature (K)  Luminosity(L/Lo)  Radius(R/Ro)  Absolute magnitude(Mv)  \\\n",
       "0               3068          0.002400        0.1700                   16.12   \n",
       "1               3042          0.000500        0.1542                   16.60   \n",
       "2               2600          0.000300        0.1020                   18.70   \n",
       "3               2800          0.000200        0.1600                   16.65   \n",
       "4               1939          0.000138        0.1030                   20.06   \n",
       "..               ...               ...           ...                     ...   \n",
       "235            38940     374830.000000     1356.0000                   -9.93   \n",
       "236            30839     834042.000000     1194.0000                  -10.63   \n",
       "237             8829     537493.000000     1423.0000                  -10.73   \n",
       "238             9235     404940.000000     1112.0000                  -11.23   \n",
       "239            37882     294903.000000     1783.0000                   -7.80   \n",
       "\n",
       "    Spectral Class Star color  \n",
       "0                M        Red  \n",
       "1                M        Red  \n",
       "2                M        Red  \n",
       "3                M        Red  \n",
       "4                M        Red  \n",
       "..             ...        ...  \n",
       "235              O       Blue  \n",
       "236              O       Blue  \n",
       "237              A      White  \n",
       "238              A      White  \n",
       "239              O       Blue  \n",
       "\n",
       "[240 rows x 6 columns]"
      ]
     },
     "execution_count": 1426,
     "metadata": {},
     "output_type": "execute_result"
    }
   ],
   "source": [
    "X_data = data[[\"Temperature (K)\", \"Luminosity(L/Lo)\", \"Radius(R/Ro)\", \"Absolute magnitude(Mv)\", \"Spectral Class\", \"Star color\"]]\n",
    "X_data"
   ]
  },
  {
   "cell_type": "code",
   "execution_count": 1427,
   "id": "23272b0c",
   "metadata": {},
   "outputs": [
    {
     "name": "stdout",
     "output_type": "stream",
     "text": [
      "Training Indexes\n",
      "[ 64  65  66  67  68  69  73  74  75  76  77  78  79  83  84  85  86  87\n",
      "  88  89  94  95  96  97  98  99 103 104 105 106 107 108 109 113 114 115\n",
      " 116 117 118 119 120 121 122 123 124 125 126 127 128 129 130 131 132 133\n",
      " 134 135 136 137 138 139 140 141 142 143 144 145 146 147 148 149 150 151\n",
      " 152 153 154 155 156 157 158 159 160 161 162 163 164 165 166 167 168 169\n",
      " 170 171 172 173 174 175 176 177 178 179 180 181 182 183 184 185 186 187\n",
      " 188 189 190 191 192 193 194 195 196 197 198 199 200 201 202 203 204 205\n",
      " 206 207 208 209 210 211 212 213 214 215 216 217 218 219 220 221 222 223\n",
      " 224 225 226 227 228 229 230 231 232 233 234 235 236 237 238 239]\n",
      "\n",
      "\n",
      "Test Indexes\n",
      "[  0   1   2   3   4   5   6   7   8   9  10  11  12  13  14  15  16  17\n",
      "  18  19  20  21  22  23  24  25  26  27  28  29  30  31  32  33  34  35\n",
      "  36  37  38  39  40  41  42  43  44  45  46  47  48  49  50  51  52  53\n",
      "  54  55  56  57  58  59  60  61  62  63  70  71  72  80  81  82  90  91\n",
      "  92  93 100 101 102 110 111 112]\n",
      "\n",
      "\n",
      "----------------------------------------------------------------------------\n",
      "\n",
      "\n",
      "Training Indexes\n",
      "[  0   1   2   3   4   5   6   7   8   9  10  11  12  13  14  15  16  17\n",
      "  18  19  20  21  22  23  24  25  26  27  28  29  30  31  32  33  34  35\n",
      "  36  37  38  39  40  41  42  43  44  45  46  47  48  49  50  51  52  53\n",
      "  54  55  56  57  58  59  60  61  62  63  70  71  72  80  81  82  90  91\n",
      "  92  93 100 101 102 110 111 112 127 128 129 137 138 139 146 147 148 149\n",
      " 157 158 159 167 168 169 176 177 178 179 180 181 182 183 184 185 186 187\n",
      " 188 189 190 191 192 193 194 195 196 197 198 199 200 201 202 203 204 205\n",
      " 206 207 208 209 210 211 212 213 214 215 216 217 218 219 220 221 222 223\n",
      " 224 225 226 227 228 229 230 231 232 233 234 235 236 237 238 239]\n",
      "\n",
      "\n",
      "Test Indexes\n",
      "[ 64  65  66  67  68  69  73  74  75  76  77  78  79  83  84  85  86  87\n",
      "  88  89  94  95  96  97  98  99 103 104 105 106 107 108 109 113 114 115\n",
      " 116 117 118 119 120 121 122 123 124 125 126 130 131 132 133 134 135 136\n",
      " 140 141 142 143 144 145 150 151 152 153 154 155 156 160 161 162 163 164\n",
      " 165 166 170 171 172 173 174 175]\n",
      "\n",
      "\n",
      "----------------------------------------------------------------------------\n",
      "\n",
      "\n",
      "Training Indexes\n",
      "[  0   1   2   3   4   5   6   7   8   9  10  11  12  13  14  15  16  17\n",
      "  18  19  20  21  22  23  24  25  26  27  28  29  30  31  32  33  34  35\n",
      "  36  37  38  39  40  41  42  43  44  45  46  47  48  49  50  51  52  53\n",
      "  54  55  56  57  58  59  60  61  62  63  64  65  66  67  68  69  70  71\n",
      "  72  73  74  75  76  77  78  79  80  81  82  83  84  85  86  87  88  89\n",
      "  90  91  92  93  94  95  96  97  98  99 100 101 102 103 104 105 106 107\n",
      " 108 109 110 111 112 113 114 115 116 117 118 119 120 121 122 123 124 125\n",
      " 126 130 131 132 133 134 135 136 140 141 142 143 144 145 150 151 152 153\n",
      " 154 155 156 160 161 162 163 164 165 166 170 171 172 173 174 175]\n",
      "\n",
      "\n",
      "Test Indexes\n",
      "[127 128 129 137 138 139 146 147 148 149 157 158 159 167 168 169 176 177\n",
      " 178 179 180 181 182 183 184 185 186 187 188 189 190 191 192 193 194 195\n",
      " 196 197 198 199 200 201 202 203 204 205 206 207 208 209 210 211 212 213\n",
      " 214 215 216 217 218 219 220 221 222 223 224 225 226 227 228 229 230 231\n",
      " 232 233 234 235 236 237 238 239]\n",
      "\n",
      "\n",
      "----------------------------------------------------------------------------\n",
      "\n",
      "\n"
     ]
    }
   ],
   "source": [
    "# just for example demonstration\n",
    "\n",
    "for training_index, test_index in folds.split(num, data[\"Star type\"]):\n",
    "    print(\"Training Indexes\")\n",
    "    print(training_index)\n",
    "    print(\"\\n\")\n",
    "    print(\"Test Indexes\")\n",
    "    print(test_index)\n",
    "    print(\"\\n\")\n",
    "    print(\"----------------------------------------------------------------------------\")\n",
    "    print(\"\\n\")\n",
    "    "
   ]
  },
  {
   "cell_type": "code",
   "execution_count": 1428,
   "id": "97098a8b",
   "metadata": {},
   "outputs": [],
   "source": [
    "scores_svm = []\n",
    "scores_rf = []\n",
    "\n",
    "svm = SVC(gamma='auto')\n",
    "rf = RandomForestClassifier(n_estimators=40)"
   ]
  },
  {
   "cell_type": "code",
   "execution_count": 1429,
   "id": "e5a41255",
   "metadata": {},
   "outputs": [],
   "source": [
    "def get_score(model, X_train, X_test, y_train, y_test):\n",
    "    model.fit(X_train, y_train)\n",
    "    return model.score(X_test, y_test)"
   ]
  },
  {
   "cell_type": "code",
   "execution_count": 1430,
   "id": "23ad2bed",
   "metadata": {},
   "outputs": [
    {
     "data": {
      "text/html": [
       "<div>\n",
       "<style scoped>\n",
       "    .dataframe tbody tr th:only-of-type {\n",
       "        vertical-align: middle;\n",
       "    }\n",
       "\n",
       "    .dataframe tbody tr th {\n",
       "        vertical-align: top;\n",
       "    }\n",
       "\n",
       "    .dataframe thead th {\n",
       "        text-align: right;\n",
       "    }\n",
       "</style>\n",
       "<table border=\"1\" class=\"dataframe\">\n",
       "  <thead>\n",
       "    <tr style=\"text-align: right;\">\n",
       "      <th></th>\n",
       "      <th>Temperature (K)</th>\n",
       "      <th>Luminosity(L/Lo)</th>\n",
       "      <th>Radius(R/Ro)</th>\n",
       "      <th>Absolute magnitude(Mv)</th>\n",
       "      <th>Spectral Class</th>\n",
       "      <th>Star color</th>\n",
       "    </tr>\n",
       "  </thead>\n",
       "  <tbody>\n",
       "    <tr>\n",
       "      <th>0</th>\n",
       "      <td>3068</td>\n",
       "      <td>0.002400</td>\n",
       "      <td>0.1700</td>\n",
       "      <td>16.12</td>\n",
       "      <td>M</td>\n",
       "      <td>Red</td>\n",
       "    </tr>\n",
       "    <tr>\n",
       "      <th>1</th>\n",
       "      <td>3042</td>\n",
       "      <td>0.000500</td>\n",
       "      <td>0.1542</td>\n",
       "      <td>16.60</td>\n",
       "      <td>M</td>\n",
       "      <td>Red</td>\n",
       "    </tr>\n",
       "    <tr>\n",
       "      <th>2</th>\n",
       "      <td>2600</td>\n",
       "      <td>0.000300</td>\n",
       "      <td>0.1020</td>\n",
       "      <td>18.70</td>\n",
       "      <td>M</td>\n",
       "      <td>Red</td>\n",
       "    </tr>\n",
       "    <tr>\n",
       "      <th>3</th>\n",
       "      <td>2800</td>\n",
       "      <td>0.000200</td>\n",
       "      <td>0.1600</td>\n",
       "      <td>16.65</td>\n",
       "      <td>M</td>\n",
       "      <td>Red</td>\n",
       "    </tr>\n",
       "    <tr>\n",
       "      <th>4</th>\n",
       "      <td>1939</td>\n",
       "      <td>0.000138</td>\n",
       "      <td>0.1030</td>\n",
       "      <td>20.06</td>\n",
       "      <td>M</td>\n",
       "      <td>Red</td>\n",
       "    </tr>\n",
       "    <tr>\n",
       "      <th>...</th>\n",
       "      <td>...</td>\n",
       "      <td>...</td>\n",
       "      <td>...</td>\n",
       "      <td>...</td>\n",
       "      <td>...</td>\n",
       "      <td>...</td>\n",
       "    </tr>\n",
       "    <tr>\n",
       "      <th>235</th>\n",
       "      <td>38940</td>\n",
       "      <td>374830.000000</td>\n",
       "      <td>1356.0000</td>\n",
       "      <td>-9.93</td>\n",
       "      <td>O</td>\n",
       "      <td>Blue</td>\n",
       "    </tr>\n",
       "    <tr>\n",
       "      <th>236</th>\n",
       "      <td>30839</td>\n",
       "      <td>834042.000000</td>\n",
       "      <td>1194.0000</td>\n",
       "      <td>-10.63</td>\n",
       "      <td>O</td>\n",
       "      <td>Blue</td>\n",
       "    </tr>\n",
       "    <tr>\n",
       "      <th>237</th>\n",
       "      <td>8829</td>\n",
       "      <td>537493.000000</td>\n",
       "      <td>1423.0000</td>\n",
       "      <td>-10.73</td>\n",
       "      <td>A</td>\n",
       "      <td>White</td>\n",
       "    </tr>\n",
       "    <tr>\n",
       "      <th>238</th>\n",
       "      <td>9235</td>\n",
       "      <td>404940.000000</td>\n",
       "      <td>1112.0000</td>\n",
       "      <td>-11.23</td>\n",
       "      <td>A</td>\n",
       "      <td>White</td>\n",
       "    </tr>\n",
       "    <tr>\n",
       "      <th>239</th>\n",
       "      <td>37882</td>\n",
       "      <td>294903.000000</td>\n",
       "      <td>1783.0000</td>\n",
       "      <td>-7.80</td>\n",
       "      <td>O</td>\n",
       "      <td>Blue</td>\n",
       "    </tr>\n",
       "  </tbody>\n",
       "</table>\n",
       "<p>240 rows × 6 columns</p>\n",
       "</div>"
      ],
      "text/plain": [
       "     Temperature (K)  Luminosity(L/Lo)  Radius(R/Ro)  Absolute magnitude(Mv)  \\\n",
       "0               3068          0.002400        0.1700                   16.12   \n",
       "1               3042          0.000500        0.1542                   16.60   \n",
       "2               2600          0.000300        0.1020                   18.70   \n",
       "3               2800          0.000200        0.1600                   16.65   \n",
       "4               1939          0.000138        0.1030                   20.06   \n",
       "..               ...               ...           ...                     ...   \n",
       "235            38940     374830.000000     1356.0000                   -9.93   \n",
       "236            30839     834042.000000     1194.0000                  -10.63   \n",
       "237             8829     537493.000000     1423.0000                  -10.73   \n",
       "238             9235     404940.000000     1112.0000                  -11.23   \n",
       "239            37882     294903.000000     1783.0000                   -7.80   \n",
       "\n",
       "    Spectral Class Star color  \n",
       "0                M        Red  \n",
       "1                M        Red  \n",
       "2                M        Red  \n",
       "3                M        Red  \n",
       "4                M        Red  \n",
       "..             ...        ...  \n",
       "235              O       Blue  \n",
       "236              O       Blue  \n",
       "237              A      White  \n",
       "238              A      White  \n",
       "239              O       Blue  \n",
       "\n",
       "[240 rows x 6 columns]"
      ]
     },
     "execution_count": 1430,
     "metadata": {},
     "output_type": "execute_result"
    }
   ],
   "source": [
    "X_data = data[[\"Temperature (K)\", \"Luminosity(L/Lo)\", \"Radius(R/Ro)\", \"Absolute magnitude(Mv)\", \"Spectral Class\", \"Star color\"]]\n",
    "X_data"
   ]
  },
  {
   "cell_type": "code",
   "execution_count": 1431,
   "id": "d70083e5",
   "metadata": {},
   "outputs": [
    {
     "name": "stderr",
     "output_type": "stream",
     "text": [
      "/var/folders/68/4zjsq3s93pbcvpxz77prqqbc0000gn/T/ipykernel_83136/2041360111.py:1: SettingWithCopyWarning: \n",
      "A value is trying to be set on a copy of a slice from a DataFrame.\n",
      "Try using .loc[row_indexer,col_indexer] = value instead\n",
      "\n",
      "See the caveats in the documentation: https://pandas.pydata.org/pandas-docs/stable/user_guide/indexing.html#returning-a-view-versus-a-copy\n",
      "  X_data[\"Spectral Class\"] = X_data[\"Spectral Class\"].replace({\"M\":1, \"B\":2, \"A\":3, \"F\":4, \"O\":5, \"K\":6, \"G\":7})\n",
      "/var/folders/68/4zjsq3s93pbcvpxz77prqqbc0000gn/T/ipykernel_83136/2041360111.py:3: SettingWithCopyWarning: \n",
      "A value is trying to be set on a copy of a slice from a DataFrame.\n",
      "Try using .loc[row_indexer,col_indexer] = value instead\n",
      "\n",
      "See the caveats in the documentation: https://pandas.pydata.org/pandas-docs/stable/user_guide/indexing.html#returning-a-view-versus-a-copy\n",
      "  X_data[\"Star color\"] = X_data[\"Star color\"].replace({\"Blue White\": \"White\", \"Yellowish White\": \"White\", \"Blue white\": \"White\",\n",
      "/var/folders/68/4zjsq3s93pbcvpxz77prqqbc0000gn/T/ipykernel_83136/2041360111.py:9: SettingWithCopyWarning: \n",
      "A value is trying to be set on a copy of a slice from a DataFrame.\n",
      "Try using .loc[row_indexer,col_indexer] = value instead\n",
      "\n",
      "See the caveats in the documentation: https://pandas.pydata.org/pandas-docs/stable/user_guide/indexing.html#returning-a-view-versus-a-copy\n",
      "  X_data[\"Star color\"] = X_data[\"Star color\"].replace({\"Red\":1, \"White\":2, \"Orange\":3, \"Blue\":4, \"Yellow\":5})\n"
     ]
    }
   ],
   "source": [
    "X_data[\"Spectral Class\"] = X_data[\"Spectral Class\"].replace({\"M\":1, \"B\":2, \"A\":3, \"F\":4, \"O\":5, \"K\":6, \"G\":7})\n",
    "\n",
    "X_data[\"Star color\"] = X_data[\"Star color\"].replace({\"Blue White\": \"White\", \"Yellowish White\": \"White\", \"Blue white\": \"White\",\n",
    "                                \"Pale yellow orange\": \"Orange\", \"Blue-white\": \"White\", \"Whitish\": \"White\",\n",
    "                                \"yellow-white\": \"White\", \"White-Yellow\": \"Yellow\", \"white\": \"White\", \"Blue \": \"Blue\",\n",
    "                                \"yellowish\": \"Yellow\", \"Yellowish\":\"Yellow\", \"Orange-Red\":\"Red\", \"Blue white \": \"Blue\",\n",
    "                                \"Blue-White\":\"Blue\"})\n",
    "\n",
    "X_data[\"Star color\"] = X_data[\"Star color\"].replace({\"Red\":1, \"White\":2, \"Orange\":3, \"Blue\":4, \"Yellow\":5})"
   ]
  },
  {
   "cell_type": "code",
   "execution_count": 1432,
   "id": "51bf0c43",
   "metadata": {},
   "outputs": [
    {
     "data": {
      "text/plain": [
       "0      1\n",
       "1      1\n",
       "2      1\n",
       "3      1\n",
       "4      1\n",
       "      ..\n",
       "235    4\n",
       "236    4\n",
       "237    2\n",
       "238    2\n",
       "239    4\n",
       "Name: Star color, Length: 240, dtype: int64"
      ]
     },
     "execution_count": 1432,
     "metadata": {},
     "output_type": "execute_result"
    }
   ],
   "source": [
    "# giving numerical values to the string values so it can be trained on #\n",
    "X_data[\"Star color\"]"
   ]
  },
  {
   "cell_type": "code",
   "execution_count": 1433,
   "id": "28022bf1",
   "metadata": {},
   "outputs": [],
   "source": [
    "num = np.array(X_data)"
   ]
  },
  {
   "cell_type": "code",
   "execution_count": 1434,
   "id": "e451308e",
   "metadata": {},
   "outputs": [
    {
     "data": {
      "text/plain": [
       "array([[ 3.06800e+03,  2.40000e-03,  1.70000e-01,  1.61200e+01,\n",
       "         1.00000e+00,  1.00000e+00],\n",
       "       [ 3.04200e+03,  5.00000e-04,  1.54200e-01,  1.66000e+01,\n",
       "         1.00000e+00,  1.00000e+00],\n",
       "       [ 2.60000e+03,  3.00000e-04,  1.02000e-01,  1.87000e+01,\n",
       "         1.00000e+00,  1.00000e+00],\n",
       "       ...,\n",
       "       [ 8.82900e+03,  5.37493e+05,  1.42300e+03, -1.07300e+01,\n",
       "         3.00000e+00,  2.00000e+00],\n",
       "       [ 9.23500e+03,  4.04940e+05,  1.11200e+03, -1.12300e+01,\n",
       "         3.00000e+00,  2.00000e+00],\n",
       "       [ 3.78820e+04,  2.94903e+05,  1.78300e+03, -7.80000e+00,\n",
       "         5.00000e+00,  4.00000e+00]])"
      ]
     },
     "execution_count": 1434,
     "metadata": {},
     "output_type": "execute_result"
    }
   ],
   "source": [
    "num"
   ]
  },
  {
   "cell_type": "code",
   "execution_count": 1435,
   "id": "7b32d094",
   "metadata": {},
   "outputs": [
    {
     "data": {
      "text/plain": [
       "array([0, 0, 0, 0, 0, 0, 0, 0, 0, 0, 1, 1, 1, 1, 1, 1, 1, 1, 1, 1, 2, 2,\n",
       "       2, 2, 2, 2, 2, 2, 2, 2, 3, 3, 3, 3, 3, 3, 3, 3, 3, 3, 4, 4, 4, 4,\n",
       "       4, 4, 4, 4, 4, 4, 5, 5, 5, 5, 5, 5, 5, 5, 5, 5, 0, 0, 0, 0, 0, 0,\n",
       "       0, 0, 0, 0, 1, 1, 1, 1, 1, 1, 1, 1, 1, 1, 2, 2, 2, 2, 2, 2, 2, 2,\n",
       "       2, 2, 3, 3, 3, 3, 3, 3, 3, 3, 3, 3, 4, 4, 4, 4, 4, 4, 4, 4, 4, 4,\n",
       "       5, 5, 5, 5, 5, 5, 5, 5, 5, 5, 0, 0, 0, 0, 0, 0, 0, 0, 0, 0, 1, 1,\n",
       "       1, 1, 1, 1, 1, 1, 1, 1, 2, 2, 2, 2, 2, 2, 2, 2, 2, 2, 3, 3, 3, 3,\n",
       "       3, 3, 3, 3, 3, 3, 4, 4, 4, 4, 4, 4, 4, 4, 4, 4, 5, 5, 5, 5, 5, 5,\n",
       "       5, 5, 5, 5, 0, 0, 0, 0, 0, 0, 0, 0, 0, 0, 1, 1, 1, 1, 1, 1, 1, 1,\n",
       "       1, 1, 2, 2, 2, 2, 2, 2, 2, 2, 2, 2, 3, 3, 3, 3, 3, 3, 3, 3, 3, 3,\n",
       "       4, 4, 4, 4, 4, 4, 4, 4, 4, 4, 5, 5, 5, 5, 5, 5, 5, 5, 5, 5])"
      ]
     },
     "execution_count": 1435,
     "metadata": {},
     "output_type": "execute_result"
    }
   ],
   "source": [
    "type_data = data[\"Star type\"]\n",
    "type_data = np.array(type_data)\n",
    "type_data"
   ]
  },
  {
   "cell_type": "code",
   "execution_count": 1436,
   "id": "41269c20",
   "metadata": {},
   "outputs": [],
   "source": [
    "for train_index, test_index in folds.split(num, type_data):\n",
    "    X_train, X_test, y_train, y_test = num[train_index], num[test_index], \\\n",
    "                                       type_data[train_index], type_data[test_index]\n",
    "    \n",
    "    scores_svm.append(get_score(SVC(gamma='auto'), X_train, X_test, y_train, y_test))\n",
    "    scores_rf.append(get_score(RandomForestClassifier(n_estimators=40), X_train, X_test, y_train, y_test))"
   ]
  },
  {
   "cell_type": "code",
   "execution_count": 1437,
   "id": "c37194fd",
   "metadata": {},
   "outputs": [
    {
     "data": {
      "text/plain": [
       "0.23750000000000002"
      ]
     },
     "execution_count": 1437,
     "metadata": {},
     "output_type": "execute_result"
    }
   ],
   "source": [
    "np.average(scores_svm)"
   ]
  },
  {
   "cell_type": "code",
   "execution_count": 1438,
   "id": "540cf0fe",
   "metadata": {},
   "outputs": [
    {
     "data": {
      "text/plain": [
       "0.9625"
      ]
     },
     "execution_count": 1438,
     "metadata": {},
     "output_type": "execute_result"
    }
   ],
   "source": [
    "np.average(scores_rf)"
   ]
  },
  {
   "cell_type": "code",
   "execution_count": 1439,
   "id": "029319ce",
   "metadata": {},
   "outputs": [],
   "source": [
    "# 4 folds #"
   ]
  },
  {
   "cell_type": "code",
   "execution_count": 1440,
   "id": "266fbe71",
   "metadata": {},
   "outputs": [
    {
     "name": "stdout",
     "output_type": "stream",
     "text": [
      "SVM Score\n",
      "0.2398809523809524\n",
      "\n",
      "Random Forest Score\n",
      "0.9791666666666667\n"
     ]
    }
   ],
   "source": [
    "folds = StratifiedKFold(n_splits=4)\n",
    "for train_index, test_index in folds.split(num, type_data):\n",
    "    X_train, X_test, y_train, y_test = num[train_index], num[test_index], \\\n",
    "                                       type_data[train_index], type_data[test_index]\n",
    "    \n",
    "    scores_svm.append(get_score(SVC(gamma='auto'), X_train, X_test, y_train, y_test))\n",
    "    scores_rf.append(get_score(RandomForestClassifier(n_estimators=40), X_train, X_test, y_train, y_test))\n",
    "print(\"SVM Score\" + \n",
    "      \"\\n\" + str(np.average(scores_svm)) + \"\\n\"+ \"\\n\" + \"Random Forest Score\" + \"\\n\" + str(np.average(scores_rf)))"
   ]
  },
  {
   "cell_type": "code",
   "execution_count": 1441,
   "id": "4f425cb0",
   "metadata": {},
   "outputs": [],
   "source": [
    "# 5 folds #"
   ]
  },
  {
   "cell_type": "code",
   "execution_count": 1442,
   "id": "85306022",
   "metadata": {},
   "outputs": [
    {
     "name": "stdout",
     "output_type": "stream",
     "text": [
      "SVM Score\n",
      "0.24756944444444443\n",
      "\n",
      "Random Forest Score\n",
      "0.9861111111111112\n"
     ]
    }
   ],
   "source": [
    "folds = StratifiedKFold(n_splits=5)\n",
    "for train_index, test_index in folds.split(num, type_data):\n",
    "    X_train, X_test, y_train, y_test = num[train_index], num[test_index], \\\n",
    "                                       type_data[train_index], type_data[test_index]\n",
    "    \n",
    "    scores_svm.append(get_score(SVC(gamma='auto'), X_train, X_test, y_train, y_test))\n",
    "    scores_rf.append(get_score(RandomForestClassifier(n_estimators=40), X_train, X_test, y_train, y_test))\n",
    "print(\"SVM Score\" + \"\\n\" + str(np.average(scores_svm)) + \n",
    "      \"\\n\"+ \"\\n\" + \"Random Forest Score\" + \"\\n\" + str(np.average(scores_rf)))"
   ]
  },
  {
   "cell_type": "code",
   "execution_count": 1443,
   "id": "7b367f7c",
   "metadata": {},
   "outputs": [],
   "source": [
    "### Model Tuning ###"
   ]
  },
  {
   "cell_type": "code",
   "execution_count": 1444,
   "id": "d2d9ebc1",
   "metadata": {},
   "outputs": [],
   "source": [
    "# 3 folds, 30 trees #"
   ]
  },
  {
   "cell_type": "code",
   "execution_count": 1445,
   "id": "2c17bf43",
   "metadata": {},
   "outputs": [
    {
     "name": "stdout",
     "output_type": "stream",
     "text": [
      "Random Forest Score\n",
      "0.9880555555555557\n"
     ]
    }
   ],
   "source": [
    "folds = StratifiedKFold(n_splits=3)\n",
    "for train_index, test_index in folds.split(num, type_data):\n",
    "    X_train, X_test, y_train, y_test = num[train_index], num[test_index], \\\n",
    "                                       type_data[train_index], type_data[test_index]\n",
    "    \n",
    "    scores_rf.append(get_score(RandomForestClassifier(n_estimators=30), X_train, X_test, y_train, y_test))\n",
    "print(\"Random Forest Score\" + \"\\n\" + str(np.average(scores_rf)))"
   ]
  },
  {
   "cell_type": "code",
   "execution_count": 1446,
   "id": "8d899751",
   "metadata": {},
   "outputs": [],
   "source": [
    "# 3 folds, 40 trees #"
   ]
  },
  {
   "cell_type": "code",
   "execution_count": 1447,
   "id": "31bc72c1",
   "metadata": {},
   "outputs": [
    {
     "name": "stdout",
     "output_type": "stream",
     "text": [
      "Random Forest Score\n",
      "0.986574074074074\n"
     ]
    }
   ],
   "source": [
    "folds = StratifiedKFold(n_splits=3)\n",
    "for train_index, test_index in folds.split(num, type_data):\n",
    "    X_train, X_test, y_train, y_test = num[train_index], num[test_index], \\\n",
    "                                       type_data[train_index], type_data[test_index]\n",
    "    \n",
    "    scores_rf.append(get_score(RandomForestClassifier(n_estimators=40), X_train, X_test, y_train, y_test))\n",
    "print(\"Random Forest Score\" + \"\\n\" + str(np.average(scores_rf)))"
   ]
  },
  {
   "cell_type": "code",
   "execution_count": 1448,
   "id": "e58d9634",
   "metadata": {},
   "outputs": [],
   "source": [
    "# 3 folds, 50 trees #"
   ]
  },
  {
   "cell_type": "code",
   "execution_count": 1449,
   "id": "08f0d678",
   "metadata": {},
   "outputs": [
    {
     "name": "stdout",
     "output_type": "stream",
     "text": [
      "Random Forest Score\n",
      "0.9831349206349206\n"
     ]
    }
   ],
   "source": [
    "folds = StratifiedKFold(n_splits=3)\n",
    "for train_index, test_index in folds.split(num, type_data):\n",
    "    X_train, X_test, y_train, y_test = num[train_index], num[test_index], \\\n",
    "                                       type_data[train_index], type_data[test_index]\n",
    "    \n",
    "    scores_rf.append(get_score(RandomForestClassifier(n_estimators=50), X_train, X_test, y_train, y_test))\n",
    "print(\"Random Forest Score\" + \"\\n\" + str(np.average(scores_rf)))"
   ]
  },
  {
   "cell_type": "code",
   "execution_count": 1450,
   "id": "c730eea4",
   "metadata": {},
   "outputs": [],
   "source": [
    "# 3 folds, 60 trees #"
   ]
  },
  {
   "cell_type": "code",
   "execution_count": 1451,
   "id": "e202c173",
   "metadata": {},
   "outputs": [
    {
     "name": "stdout",
     "output_type": "stream",
     "text": [
      "Random Forest Score\n",
      "0.9842013888888889\n"
     ]
    }
   ],
   "source": [
    "folds = StratifiedKFold(n_splits=3)\n",
    "for train_index, test_index in folds.split(num, type_data):\n",
    "    X_train, X_test, y_train, y_test = num[train_index], num[test_index], \\\n",
    "                                       type_data[train_index], type_data[test_index]\n",
    "    \n",
    "    scores_rf.append(get_score(RandomForestClassifier(n_estimators=60), X_train, X_test, y_train, y_test))\n",
    "print(\"Random Forest Score\" + \"\\n\" + str(np.average(scores_rf)))"
   ]
  },
  {
   "cell_type": "code",
   "execution_count": 1452,
   "id": "33dfcb7b",
   "metadata": {},
   "outputs": [],
   "source": [
    "# 3 folds, 70 trees #"
   ]
  },
  {
   "cell_type": "code",
   "execution_count": 1453,
   "id": "02bc6069",
   "metadata": {},
   "outputs": [
    {
     "name": "stdout",
     "output_type": "stream",
     "text": [
      "Random Forest Score\n",
      "0.9813271604938272\n"
     ]
    }
   ],
   "source": [
    "folds = StratifiedKFold(n_splits=3)\n",
    "for train_index, test_index in folds.split(num, type_data):\n",
    "    X_train, X_test, y_train, y_test = num[train_index], num[test_index], \\\n",
    "                                       type_data[train_index], type_data[test_index]\n",
    "    \n",
    "    scores_rf.append(get_score(RandomForestClassifier(n_estimators=70), X_train, X_test, y_train, y_test))\n",
    "print(\"Random Forest Score\" + \"\\n\" + str(np.average(scores_rf)))"
   ]
  },
  {
   "cell_type": "code",
   "execution_count": 1454,
   "id": "24024dd5",
   "metadata": {},
   "outputs": [],
   "source": [
    "# 4 folds, 30 trees #"
   ]
  },
  {
   "cell_type": "code",
   "execution_count": 1455,
   "id": "464bd891",
   "metadata": {},
   "outputs": [
    {
     "name": "stdout",
     "output_type": "stream",
     "text": [
      "Random Forest Score\n",
      "0.9815860215053763\n"
     ]
    }
   ],
   "source": [
    "folds = StratifiedKFold(n_splits=4)\n",
    "for train_index, test_index in folds.split(num, type_data):\n",
    "    X_train, X_test, y_train, y_test = num[train_index], num[test_index], \\\n",
    "                                       type_data[train_index], type_data[test_index]\n",
    "    \n",
    "    scores_rf.append(get_score(RandomForestClassifier(n_estimators=30), X_train, X_test, y_train, y_test))\n",
    "print(\"Random Forest Score\" + \"\\n\" + str(np.average(scores_rf)))"
   ]
  },
  {
   "cell_type": "code",
   "execution_count": 1456,
   "id": "6eb40cf2",
   "metadata": {},
   "outputs": [],
   "source": [
    "# 5 folds, 30 trees #"
   ]
  },
  {
   "cell_type": "code",
   "execution_count": 1457,
   "id": "3e977426",
   "metadata": {},
   "outputs": [
    {
     "name": "stdout",
     "output_type": "stream",
     "text": [
      "Random Forest Score\n",
      "0.9829861111111112\n"
     ]
    }
   ],
   "source": [
    "folds = StratifiedKFold(n_splits=5)\n",
    "for train_index, test_index in folds.split(num, type_data):\n",
    "    X_train, X_test, y_train, y_test = num[train_index], num[test_index], \\\n",
    "                                       type_data[train_index], type_data[test_index]\n",
    "    \n",
    "    scores_rf.append(get_score(RandomForestClassifier(n_estimators=30), X_train, X_test, y_train, y_test))\n",
    "print(\"Random Forest Score\" + \"\\n\" + str(np.average(scores_rf)))"
   ]
  },
  {
   "cell_type": "code",
   "execution_count": 1458,
   "id": "19d3aca7",
   "metadata": {},
   "outputs": [],
   "source": [
    "# 5 folds, 40 trees #"
   ]
  },
  {
   "cell_type": "code",
   "execution_count": 1459,
   "id": "09baf33c",
   "metadata": {},
   "outputs": [
    {
     "name": "stdout",
     "output_type": "stream",
     "text": [
      "Random Forest Score\n",
      "0.9850609756097561\n"
     ]
    }
   ],
   "source": [
    "folds = StratifiedKFold(n_splits=5)\n",
    "for train_index, test_index in folds.split(num, type_data):\n",
    "    X_train, X_test, y_train, y_test = num[train_index], num[test_index], \\\n",
    "                                       type_data[train_index], type_data[test_index]\n",
    "    \n",
    "    scores_rf.append(get_score(RandomForestClassifier(n_estimators=40), X_train, X_test, y_train, y_test))\n",
    "print(\"Random Forest Score\" + \"\\n\" + str(np.average(scores_rf)))"
   ]
  },
  {
   "cell_type": "code",
   "execution_count": 1460,
   "id": "2a43efba",
   "metadata": {},
   "outputs": [],
   "source": [
    "### Predict ###"
   ]
  },
  {
   "cell_type": "code",
   "execution_count": 1461,
   "id": "e4c707b0",
   "metadata": {},
   "outputs": [
    {
     "data": {
      "text/plain": [
       "RandomForestClassifier(n_estimators=40)"
      ]
     },
     "execution_count": 1461,
     "metadata": {},
     "output_type": "execute_result"
    }
   ],
   "source": [
    "rf.fit(X_train, y_train)"
   ]
  },
  {
   "cell_type": "code",
   "execution_count": 1462,
   "id": "64cf6e03",
   "metadata": {},
   "outputs": [
    {
     "data": {
      "text/plain": [
       "array([5])"
      ]
     },
     "execution_count": 1462,
     "metadata": {},
     "output_type": "execute_result"
    }
   ],
   "source": [
    "rf.predict([[3490, 270000, 1520, -9.4, 1, 1]])"
   ]
  },
  {
   "cell_type": "code",
   "execution_count": 1463,
   "id": "c0c45b8a",
   "metadata": {},
   "outputs": [],
   "source": [
    "### Compare the categorical Data with Chi-Squre Test ###"
   ]
  },
  {
   "cell_type": "code",
   "execution_count": 1464,
   "id": "56b9f682",
   "metadata": {},
   "outputs": [
    {
     "name": "stdout",
     "output_type": "stream",
     "text": [
      "\n",
      "Chi-squared test for independence\n",
      "\n",
      "Test              Df    Chi-square       P-value\n",
      "--------------  ----  ------------  ------------\n",
      "Pearson          108       823.011  1.88886e-110\n",
      "Log-likelihood   108       560.676  2.7383e-62\n",
      "\n"
     ]
    }
   ],
   "source": [
    "res = stat()\n",
    "ctab = pd.crosstab(data[\"Star color\"], data[\"Spectral Class\"])\n",
    "res.chisq(df = ctab)\n",
    "print(res.summary)"
   ]
  },
  {
   "cell_type": "code",
   "execution_count": 1465,
   "id": "4c82e614",
   "metadata": {},
   "outputs": [
    {
     "name": "stdout",
     "output_type": "stream",
     "text": [
      "\n",
      "Chi-squared test for independence\n",
      "\n",
      "Test              Df    Chi-square      P-value\n",
      "--------------  ----  ------------  -----------\n",
      "Pearson           30       328.393  6.36128e-52\n",
      "Log-likelihood    30       348.141  7.37887e-56\n",
      "\n"
     ]
    }
   ],
   "source": [
    "res = stat()\n",
    "ctab = pd.crosstab(data[\"Star type\"], data[\"Spectral Class\"])\n",
    "res.chisq(df = ctab)\n",
    "print(res.summary)"
   ]
  },
  {
   "cell_type": "code",
   "execution_count": 1466,
   "id": "7834f686",
   "metadata": {},
   "outputs": [],
   "source": [
    "### Train and Test Model with more data ###"
   ]
  },
  {
   "cell_type": "code",
   "execution_count": 1468,
   "id": "36dc0ea1",
   "metadata": {},
   "outputs": [
    {
     "name": "stdout",
     "output_type": "stream",
     "text": [
      "Random Forest Score\n",
      "0.9863945578231291\n"
     ]
    }
   ],
   "source": [
    "folds = StratifiedKFold(n_splits=3)\n",
    "for train_index, test_index in folds.split(num, type_data):\n",
    "    X_train, X_test, y_train, y_test = num[train_index], num[test_index], \\\n",
    "                                       type_data[train_index], type_data[test_index]\n",
    "    \n",
    "    scores_rf.append(get_score(RandomForestClassifier(n_estimators=30), X_train, X_test, y_train, y_test))\n",
    "print(\"Random Forest Score\" + \"\\n\" + str(np.average(scores_rf)))"
   ]
  },
  {
   "cell_type": "code",
   "execution_count": 1469,
   "id": "3e9e30b9",
   "metadata": {},
   "outputs": [],
   "source": [
    "### Save Model ###"
   ]
  },
  {
   "cell_type": "code",
   "execution_count": 1470,
   "id": "fc2bb7c2",
   "metadata": {},
   "outputs": [
    {
     "data": {
      "text/plain": [
       "RandomForestClassifier(n_estimators=40)"
      ]
     },
     "execution_count": 1470,
     "metadata": {},
     "output_type": "execute_result"
    }
   ],
   "source": [
    "rf.fit(X_train, y_train)"
   ]
  },
  {
   "cell_type": "code",
   "execution_count": 1471,
   "id": "7c8c8d7c",
   "metadata": {},
   "outputs": [
    {
     "data": {
      "text/plain": [
       "['./random_forest.joblib']"
      ]
     },
     "execution_count": 1471,
     "metadata": {},
     "output_type": "execute_result"
    }
   ],
   "source": [
    "joblib.dump(rf, \"./random_forest.joblib\")"
   ]
  },
  {
   "cell_type": "code",
   "execution_count": 312,
   "id": "9fa1380e",
   "metadata": {},
   "outputs": [],
   "source": [
    "loaded_rf = joblib.load(\"./random_forest.joblib\")"
   ]
  },
  {
   "cell_type": "code",
   "execution_count": 314,
   "id": "60bcbefa",
   "metadata": {},
   "outputs": [],
   "source": [
    "### Analyze Data to find insights ###"
   ]
  },
  {
   "cell_type": "code",
   "execution_count": 1308,
   "id": "5de3f1d3",
   "metadata": {},
   "outputs": [
    {
     "data": {
      "text/html": [
       "<div>\n",
       "<style scoped>\n",
       "    .dataframe tbody tr th:only-of-type {\n",
       "        vertical-align: middle;\n",
       "    }\n",
       "\n",
       "    .dataframe tbody tr th {\n",
       "        vertical-align: top;\n",
       "    }\n",
       "\n",
       "    .dataframe thead th {\n",
       "        text-align: right;\n",
       "    }\n",
       "</style>\n",
       "<table border=\"1\" class=\"dataframe\">\n",
       "  <thead>\n",
       "    <tr style=\"text-align: right;\">\n",
       "      <th></th>\n",
       "      <th>Temperature (K)</th>\n",
       "      <th>Luminosity(L/Lo)</th>\n",
       "      <th>Radius(R/Ro)</th>\n",
       "      <th>Absolute magnitude(Mv)</th>\n",
       "      <th>Star type</th>\n",
       "      <th>Star color</th>\n",
       "      <th>Spectral Class</th>\n",
       "    </tr>\n",
       "  </thead>\n",
       "  <tbody>\n",
       "    <tr>\n",
       "      <th>0</th>\n",
       "      <td>3068</td>\n",
       "      <td>0.002400</td>\n",
       "      <td>0.1700</td>\n",
       "      <td>16.120</td>\n",
       "      <td>0</td>\n",
       "      <td>Red</td>\n",
       "      <td>M</td>\n",
       "    </tr>\n",
       "    <tr>\n",
       "      <th>1</th>\n",
       "      <td>3042</td>\n",
       "      <td>0.000500</td>\n",
       "      <td>0.1542</td>\n",
       "      <td>16.600</td>\n",
       "      <td>0</td>\n",
       "      <td>Red</td>\n",
       "      <td>M</td>\n",
       "    </tr>\n",
       "    <tr>\n",
       "      <th>2</th>\n",
       "      <td>2600</td>\n",
       "      <td>0.000300</td>\n",
       "      <td>0.1020</td>\n",
       "      <td>18.700</td>\n",
       "      <td>0</td>\n",
       "      <td>Red</td>\n",
       "      <td>M</td>\n",
       "    </tr>\n",
       "    <tr>\n",
       "      <th>3</th>\n",
       "      <td>2800</td>\n",
       "      <td>0.000200</td>\n",
       "      <td>0.1600</td>\n",
       "      <td>16.650</td>\n",
       "      <td>0</td>\n",
       "      <td>Red</td>\n",
       "      <td>M</td>\n",
       "    </tr>\n",
       "    <tr>\n",
       "      <th>4</th>\n",
       "      <td>1939</td>\n",
       "      <td>0.000138</td>\n",
       "      <td>0.1030</td>\n",
       "      <td>20.060</td>\n",
       "      <td>0</td>\n",
       "      <td>Red</td>\n",
       "      <td>M</td>\n",
       "    </tr>\n",
       "    <tr>\n",
       "      <th>...</th>\n",
       "      <td>...</td>\n",
       "      <td>...</td>\n",
       "      <td>...</td>\n",
       "      <td>...</td>\n",
       "      <td>...</td>\n",
       "      <td>...</td>\n",
       "      <td>...</td>\n",
       "    </tr>\n",
       "    <tr>\n",
       "      <th>195</th>\n",
       "      <td>3598</td>\n",
       "      <td>0.002700</td>\n",
       "      <td>0.6700</td>\n",
       "      <td>13.667</td>\n",
       "      <td>1</td>\n",
       "      <td>Red</td>\n",
       "      <td>M</td>\n",
       "    </tr>\n",
       "    <tr>\n",
       "      <th>196</th>\n",
       "      <td>3142</td>\n",
       "      <td>0.001320</td>\n",
       "      <td>0.2580</td>\n",
       "      <td>14.120</td>\n",
       "      <td>1</td>\n",
       "      <td>Red</td>\n",
       "      <td>M</td>\n",
       "    </tr>\n",
       "    <tr>\n",
       "      <th>197</th>\n",
       "      <td>3496</td>\n",
       "      <td>0.001250</td>\n",
       "      <td>0.3360</td>\n",
       "      <td>14.940</td>\n",
       "      <td>1</td>\n",
       "      <td>Red</td>\n",
       "      <td>M</td>\n",
       "    </tr>\n",
       "    <tr>\n",
       "      <th>198</th>\n",
       "      <td>3324</td>\n",
       "      <td>0.006500</td>\n",
       "      <td>0.4710</td>\n",
       "      <td>12.780</td>\n",
       "      <td>1</td>\n",
       "      <td>Red</td>\n",
       "      <td>M</td>\n",
       "    </tr>\n",
       "    <tr>\n",
       "      <th>199</th>\n",
       "      <td>3463</td>\n",
       "      <td>0.002700</td>\n",
       "      <td>0.6750</td>\n",
       "      <td>14.776</td>\n",
       "      <td>1</td>\n",
       "      <td>Red</td>\n",
       "      <td>M</td>\n",
       "    </tr>\n",
       "  </tbody>\n",
       "</table>\n",
       "<p>89 rows × 7 columns</p>\n",
       "</div>"
      ],
      "text/plain": [
       "     Temperature (K)  Luminosity(L/Lo)  Radius(R/Ro)  Absolute magnitude(Mv)  \\\n",
       "0               3068          0.002400        0.1700                  16.120   \n",
       "1               3042          0.000500        0.1542                  16.600   \n",
       "2               2600          0.000300        0.1020                  18.700   \n",
       "3               2800          0.000200        0.1600                  16.650   \n",
       "4               1939          0.000138        0.1030                  20.060   \n",
       "..               ...               ...           ...                     ...   \n",
       "195             3598          0.002700        0.6700                  13.667   \n",
       "196             3142          0.001320        0.2580                  14.120   \n",
       "197             3496          0.001250        0.3360                  14.940   \n",
       "198             3324          0.006500        0.4710                  12.780   \n",
       "199             3463          0.002700        0.6750                  14.776   \n",
       "\n",
       "     Star type Star color Spectral Class  \n",
       "0            0        Red              M  \n",
       "1            0        Red              M  \n",
       "2            0        Red              M  \n",
       "3            0        Red              M  \n",
       "4            0        Red              M  \n",
       "..         ...        ...            ...  \n",
       "195          1        Red              M  \n",
       "196          1        Red              M  \n",
       "197          1        Red              M  \n",
       "198          1        Red              M  \n",
       "199          1        Red              M  \n",
       "\n",
       "[89 rows x 7 columns]"
      ]
     },
     "execution_count": 1308,
     "metadata": {},
     "output_type": "execute_result"
    }
   ],
   "source": [
    "m_data = data[data[\"Spectral Class\"] == \"M\"]\n",
    "m_data"
   ]
  },
  {
   "cell_type": "code",
   "execution_count": 330,
   "id": "fdc800aa",
   "metadata": {},
   "outputs": [
    {
     "data": {
      "text/plain": [
       "['Temperature (K)',\n",
       " 'Luminosity(L/Lo)',\n",
       " 'Radius(R/Ro)',\n",
       " 'Absolute magnitude(Mv)']"
      ]
     },
     "execution_count": 330,
     "metadata": {},
     "output_type": "execute_result"
    }
   ],
   "source": [
    "column_name_list"
   ]
  },
  {
   "cell_type": "code",
   "execution_count": 1309,
   "id": "a75c71a5",
   "metadata": {},
   "outputs": [
    {
     "name": "stdout",
     "output_type": "stream",
     "text": [
      "The Max Value for M Class Temperature (K) is: 3826\n",
      "The Min Value for M Class Temperature (K) is:1939\n",
      "\n",
      "The Max Value for M Class Luminosity(L/Lo) is: 340000.0\n",
      "The Min Value for M Class Luminosity(L/Lo) is:0.000138\n",
      "\n",
      "The Max Value for M Class Radius(R/Ro) is: 89.0\n",
      "The Min Value for M Class Radius(R/Ro) is:0.057\n",
      "\n",
      "The Max Value for M Class Absolute magnitude(Mv) is: 20.06\n",
      "The Min Value for M Class Absolute magnitude(Mv) is:-7.22\n",
      "\n"
     ]
    }
   ],
   "source": [
    "for i in column_name_list:\n",
    "    max_val = max(list(m_data[i]))\n",
    "    min_val = min(list(m_data[i]))\n",
    "    print(\"The Max Value for \" + \"M Class \" + i + \" is: \" + str(max_val) + \"\\n\" + \n",
    "          \"The Min Value for \" + \"M Class \" + i + \" is:\" + str(min_val) + \"\\n\")"
   ]
  },
  {
   "cell_type": "code",
   "execution_count": 1310,
   "id": "986c764a",
   "metadata": {},
   "outputs": [],
   "source": [
    "b_data = data[data[\"Spectral Class\"] == \"B\"]\n",
    "a_data = data[data[\"Spectral Class\"] == \"A\"]\n",
    "f_data = data[data[\"Spectral Class\"] == \"F\"]\n",
    "o_data = data[data[\"Spectral Class\"] == \"O\"]\n",
    "k_data = data[data[\"Spectral Class\"] == \"K\"]\n",
    "g_data = data[data[\"Spectral Class\"] == \"G\"]"
   ]
  },
  {
   "cell_type": "code",
   "execution_count": 1311,
   "id": "8964f11f",
   "metadata": {},
   "outputs": [
    {
     "name": "stdout",
     "output_type": "stream",
     "text": [
      "The Max Value for B Class Temperature (K) is: 30000\n",
      "The Min Value for B Class Temperature (K) is:9700\n",
      "\n",
      "The Max Value for B Class Luminosity(L/Lo) is: 188000.0\n",
      "The Min Value for B Class Luminosity(L/Lo) is:0.00059\n",
      "\n",
      "The Max Value for B Class Radius(R/Ro) is: 7.2\n",
      "The Min Value for B Class Radius(R/Ro) is:0.0084\n",
      "\n",
      "The Max Value for B Class Absolute magnitude(Mv) is: 13.67\n",
      "The Min Value for B Class Absolute magnitude(Mv) is:-4.2\n",
      "\n"
     ]
    }
   ],
   "source": [
    "for i in column_name_list:\n",
    "    max_val = max(list(b_data[i]))\n",
    "    min_val = min(list(b_data[i]))\n",
    "    print(\"The Max Value for \" + \"B Class \" + i + \" is: \" + str(max_val) + \"\\n\" + \n",
    "          \"The Min Value for \" + \"B Class \" + i + \" is:\" + str(min_val) + \"\\n\")"
   ]
  },
  {
   "cell_type": "code",
   "execution_count": 1312,
   "id": "5010c7e8",
   "metadata": {},
   "outputs": [
    {
     "name": "stdout",
     "output_type": "stream",
     "text": [
      "The Max Value for A Class Temperature (K) is: 14060\n",
      "The Min Value for A Class Temperature (K) is:7723\n",
      "\n",
      "The Max Value for A Class Luminosity(L/Lo) is: 1092.0\n",
      "The Min Value for A Class Luminosity(L/Lo) is:0.00014\n",
      "\n",
      "The Max Value for A Class Radius(R/Ro) is: 7.01\n",
      "The Min Value for A Class Radius(R/Ro) is:0.00878\n",
      "\n",
      "The Max Value for A Class Absolute magnitude(Mv) is: 14.87\n",
      "The Min Value for A Class Absolute magnitude(Mv) is:-2.3\n",
      "\n"
     ]
    }
   ],
   "source": [
    "for i in column_name_list:\n",
    "    max_val = max(list(a_data[i]))\n",
    "    min_val = min(list(a_data[i]))\n",
    "    print(\"The Max Value for \" + \"A Class \" + i + \" is: \" + str(max_val) + \"\\n\" + \n",
    "          \"The Min Value for \" + \"A Class \" + i + \" is:\" + str(min_val) + \"\\n\")"
   ]
  },
  {
   "cell_type": "code",
   "execution_count": 1313,
   "id": "f821c637",
   "metadata": {},
   "outputs": [
    {
     "name": "stdout",
     "output_type": "stream",
     "text": [
      "The Max Value for F Class Temperature (K) is: 14732\n",
      "The Min Value for F Class Temperature (K) is:5300\n",
      "\n",
      "The Max Value for F Class Luminosity(L/Lo) is: 9.25\n",
      "The Min Value for F Class Luminosity(L/Lo) is:8e-05\n",
      "\n",
      "The Max Value for F Class Radius(R/Ro) is: 1.93\n",
      "The Min Value for F Class Radius(R/Ro) is:0.00892\n",
      "\n",
      "The Max Value for F Class Absolute magnitude(Mv) is: 14.47\n",
      "The Min Value for F Class Absolute magnitude(Mv) is:-0.98\n",
      "\n"
     ]
    }
   ],
   "source": [
    "for i in column_name_list:\n",
    "    max_val = max(list(f_data[i]))\n",
    "    min_val = min(list(f_data[i]))\n",
    "    print(\"The Max Value for \" + \"F Class \" + i + \" is: \" + str(max_val) + \"\\n\" + \n",
    "          \"The Min Value for \" + \"F Class \" + i + \" is:\" + str(min_val) + \"\\n\")"
   ]
  },
  {
   "cell_type": "code",
   "execution_count": 1314,
   "id": "cb0283bb",
   "metadata": {},
   "outputs": [
    {
     "name": "stdout",
     "output_type": "stream",
     "text": [
      "The Max Value for O Class Temperature (K) is: 32460\n",
      "The Min Value for O Class Temperature (K) is:5752\n",
      "\n",
      "The Max Value for O Class Luminosity(L/Lo) is: 452000.0\n",
      "The Min Value for O Class Luminosity(L/Lo) is:112000.0\n",
      "\n",
      "The Max Value for O Class Radius(R/Ro) is: 98.0\n",
      "The Min Value for O Class Radius(R/Ro) is:6.237\n",
      "\n",
      "The Max Value for O Class Absolute magnitude(Mv) is: -4.36\n",
      "The Min Value for O Class Absolute magnitude(Mv) is:-7.45\n",
      "\n"
     ]
    }
   ],
   "source": [
    "for i in column_name_list:\n",
    "    max_val = max(list(o_data[i]))\n",
    "    min_val = min(list(o_data[i]))\n",
    "    print(\"The Max Value for \" + \"O Class \" + i + \" is: \" + str(max_val) + \"\\n\" + \n",
    "          \"The Min Value for \" + \"O Class \" + i + \" is:\" + str(min_val) + \"\\n\")"
   ]
  },
  {
   "cell_type": "code",
   "execution_count": 1315,
   "id": "07fee683",
   "metadata": {},
   "outputs": [
    {
     "name": "stdout",
     "output_type": "stream",
     "text": [
      "The Max Value for K Class Temperature (K) is: 5112\n",
      "The Min Value for K Class Temperature (K) is:4077\n",
      "\n",
      "The Max Value for K Class Luminosity(L/Lo) is: 0.63\n",
      "The Min Value for K Class Luminosity(L/Lo) is:0.085\n",
      "\n",
      "The Max Value for K Class Radius(R/Ro) is: 1.13\n",
      "The Min Value for K Class Radius(R/Ro) is:0.795\n",
      "\n",
      "The Max Value for K Class Absolute magnitude(Mv) is: 6.506\n",
      "The Min Value for K Class Absolute magnitude(Mv) is:4.68\n",
      "\n"
     ]
    }
   ],
   "source": [
    "for i in column_name_list:\n",
    "    max_val = max(list(k_data[i]))\n",
    "    min_val = min(list(k_data[i]))\n",
    "    print(\"The Max Value for \" + \"K Class \" + i + \" is: \" + str(max_val) + \"\\n\" + \n",
    "          \"The Min Value for \" + \"K Class \" + i + \" is:\" + str(min_val) + \"\\n\")"
   ]
  },
  {
   "cell_type": "code",
   "execution_count": 1472,
   "id": "004b5d9f",
   "metadata": {},
   "outputs": [
    {
     "ename": "ValueError",
     "evalue": "max() arg is an empty sequence",
     "output_type": "error",
     "traceback": [
      "\u001b[0;31m---------------------------------------------------------------------------\u001b[0m",
      "\u001b[0;31mValueError\u001b[0m                                Traceback (most recent call last)",
      "\u001b[0;32m/var/folders/68/4zjsq3s93pbcvpxz77prqqbc0000gn/T/ipykernel_83136/1990865546.py\u001b[0m in \u001b[0;36m<module>\u001b[0;34m\u001b[0m\n\u001b[1;32m      1\u001b[0m \u001b[0;32mfor\u001b[0m \u001b[0mi\u001b[0m \u001b[0;32min\u001b[0m \u001b[0mcolumn_name_list\u001b[0m\u001b[0;34m:\u001b[0m\u001b[0;34m\u001b[0m\u001b[0;34m\u001b[0m\u001b[0m\n\u001b[0;32m----> 2\u001b[0;31m     \u001b[0mmax_val\u001b[0m \u001b[0;34m=\u001b[0m \u001b[0mmax\u001b[0m\u001b[0;34m(\u001b[0m\u001b[0mlist\u001b[0m\u001b[0;34m(\u001b[0m\u001b[0mg_data\u001b[0m\u001b[0;34m[\u001b[0m\u001b[0mi\u001b[0m\u001b[0;34m]\u001b[0m\u001b[0;34m)\u001b[0m\u001b[0;34m)\u001b[0m\u001b[0;34m\u001b[0m\u001b[0;34m\u001b[0m\u001b[0m\n\u001b[0m\u001b[1;32m      3\u001b[0m     \u001b[0mmin_val\u001b[0m \u001b[0;34m=\u001b[0m \u001b[0mmin\u001b[0m\u001b[0;34m(\u001b[0m\u001b[0mlist\u001b[0m\u001b[0;34m(\u001b[0m\u001b[0mg_data\u001b[0m\u001b[0;34m[\u001b[0m\u001b[0mi\u001b[0m\u001b[0;34m]\u001b[0m\u001b[0;34m)\u001b[0m\u001b[0;34m)\u001b[0m\u001b[0;34m\u001b[0m\u001b[0;34m\u001b[0m\u001b[0m\n\u001b[1;32m      4\u001b[0m     print(\"The Max Value for \" + \"G Class \" + i + \" is: \" + str(max_val) + \"\\n\" + \n\u001b[1;32m      5\u001b[0m           \"The Min Value for \" + \"G Class \" + i + \" is:\" + str(min_val) + \"\\n\")\n",
      "\u001b[0;31mValueError\u001b[0m: max() arg is an empty sequence"
     ]
    }
   ],
   "source": [
    "# for i in column_name_list:\n",
    "#     max_val = max(list(g_data[i]))\n",
    "#     min_val = min(list(g_data[i]))\n",
    "#     print(\"The Max Value for \" + \"G Class \" + i + \" is: \" + str(max_val) + \"\\n\" + \n",
    "#           \"The Min Value for \" + \"G Class \" + i + \" is:\" + str(min_val) + \"\\n\")"
   ]
  },
  {
   "cell_type": "code",
   "execution_count": 1473,
   "id": "b5b73a70",
   "metadata": {},
   "outputs": [],
   "source": [
    "zero = data[data[\"Star type\"] == 0]\n",
    "one = data[data[\"Star type\"] == 1]\n",
    "two = data[data[\"Star type\"] == 2]\n",
    "three = data[data[\"Star type\"] == 3]\n",
    "four = data[data[\"Star type\"] == 4]\n",
    "five = data[data[\"Star type\"] == 5]"
   ]
  },
  {
   "cell_type": "code",
   "execution_count": 1474,
   "id": "2fac0022",
   "metadata": {},
   "outputs": [
    {
     "name": "stdout",
     "output_type": "stream",
     "text": [
      "The Max Value for Type 0 Temperature (K) is: 3531\n",
      "The Min Value for Type 0 Temperature (K) is:1939\n",
      "\n",
      "The Max Value for Type 0 Luminosity(L/Lo) is: 0.0056\n",
      "The Min Value for Type 0 Luminosity(L/Lo) is:0.000138\n",
      "\n",
      "The Max Value for Type 0 Radius(R/Ro) is: 0.19\n",
      "The Min Value for Type 0 Radius(R/Ro) is:0.057\n",
      "\n",
      "The Max Value for Type 0 Absolute magnitude(Mv) is: 20.06\n",
      "The Min Value for Type 0 Absolute magnitude(Mv) is:16.05\n",
      "\n"
     ]
    }
   ],
   "source": [
    "for i in column_name_list:\n",
    "    max_val = max(list(zero[i]))\n",
    "    min_val = min(list(zero[i]))\n",
    "    print(\"The Max Value for \" + \"Type 0 \" + i + \" is: \" + str(max_val) + \"\\n\" + \n",
    "          \"The Min Value for \" + \"Type 0 \" + i + \" is:\" + str(min_val) + \"\\n\")"
   ]
  },
  {
   "cell_type": "code",
   "execution_count": 1475,
   "id": "acbbc077",
   "metadata": {},
   "outputs": [
    {
     "name": "stdout",
     "output_type": "stream",
     "text": [
      "The Max Value for Type 1 Temperature (K) is: 3692\n",
      "The Min Value for Type 1 Temperature (K) is:2621\n",
      "\n",
      "The Max Value for Type 1 Luminosity(L/Lo) is: 0.039\n",
      "The Min Value for Type 1 Luminosity(L/Lo) is:0.00019\n",
      "\n",
      "The Max Value for Type 1 Radius(R/Ro) is: 0.73\n",
      "The Min Value for Type 1 Radius(R/Ro) is:0.098\n",
      "\n",
      "The Max Value for Type 1 Absolute magnitude(Mv) is: 14.94\n",
      "The Min Value for Type 1 Absolute magnitude(Mv) is:10.12\n",
      "\n"
     ]
    }
   ],
   "source": [
    "for i in column_name_list:\n",
    "    max_val = max(list(one[i]))\n",
    "    min_val = min(list(one[i]))\n",
    "    print(\"The Max Value for \" + \"Type 1 \" + i + \" is: \" + str(max_val) + \"\\n\" + \n",
    "          \"The Min Value for \" + \"Type 1 \" + i + \" is:\" + str(min_val) + \"\\n\")"
   ]
  },
  {
   "cell_type": "code",
   "execution_count": 1476,
   "id": "51fefdb7",
   "metadata": {},
   "outputs": [
    {
     "name": "stdout",
     "output_type": "stream",
     "text": [
      "The Max Value for Type 2 Temperature (K) is: 25000\n",
      "The Min Value for Type 2 Temperature (K) is:7100\n",
      "\n",
      "The Max Value for Type 2 Luminosity(L/Lo) is: 0.056\n",
      "The Min Value for Type 2 Luminosity(L/Lo) is:8e-05\n",
      "\n",
      "The Max Value for Type 2 Radius(R/Ro) is: 0.015\n",
      "The Min Value for Type 2 Radius(R/Ro) is:0.0084\n",
      "\n",
      "The Max Value for Type 2 Absolute magnitude(Mv) is: 14.87\n",
      "The Min Value for Type 2 Absolute magnitude(Mv) is:10.18\n",
      "\n"
     ]
    }
   ],
   "source": [
    "for i in column_name_list:\n",
    "    max_val = max(list(two[i]))\n",
    "    min_val = min(list(two[i]))\n",
    "    print(\"The Max Value for \" + \"Type 2 \" + i + \" is: \" + str(max_val) + \"\\n\" + \n",
    "          \"The Min Value for \" + \"Type 2 \" + i + \" is:\" + str(min_val) + \"\\n\")"
   ]
  },
  {
   "cell_type": "code",
   "execution_count": 1477,
   "id": "c4c53689",
   "metadata": {},
   "outputs": [
    {
     "name": "stdout",
     "output_type": "stream",
     "text": [
      "The Max Value for Type 3 Temperature (K) is: 39000\n",
      "The Min Value for Type 3 Temperature (K) is:4077\n",
      "\n",
      "The Max Value for Type 3 Luminosity(L/Lo) is: 204000.0\n",
      "The Min Value for Type 3 Luminosity(L/Lo) is:0.085\n",
      "\n",
      "The Max Value for Type 3 Radius(R/Ro) is: 10.6\n",
      "The Min Value for Type 3 Radius(R/Ro) is:0.795\n",
      "\n",
      "The Max Value for Type 3 Absolute magnitude(Mv) is: 6.506\n",
      "The Min Value for Type 3 Absolute magnitude(Mv) is:-4.7\n",
      "\n"
     ]
    }
   ],
   "source": [
    "for i in column_name_list:\n",
    "    max_val = max(list(three[i]))\n",
    "    min_val = min(list(three[i]))\n",
    "    print(\"The Max Value for \" + \"Type 3 \" + i + \" is: \" + str(max_val) + \"\\n\" + \n",
    "          \"The Min Value for \" + \"Type 3 \" + i + \" is:\" + str(min_val) + \"\\n\")"
   ]
  },
  {
   "cell_type": "code",
   "execution_count": 1478,
   "id": "bd778e08",
   "metadata": {},
   "outputs": [
    {
     "name": "stdout",
     "output_type": "stream",
     "text": [
      "The Max Value for Type 4 Temperature (K) is: 40000\n",
      "The Min Value for Type 4 Temperature (K) is:3008\n",
      "\n",
      "The Max Value for Type 4 Luminosity(L/Lo) is: 813000.0\n",
      "The Min Value for Type 4 Luminosity(L/Lo) is:112000.0\n",
      "\n",
      "The Max Value for Type 4 Radius(R/Ro) is: 98.0\n",
      "The Min Value for Type 4 Radius(R/Ro) is:12.0\n",
      "\n",
      "The Max Value for Type 4 Absolute magnitude(Mv) is: -5.24\n",
      "The Min Value for Type 4 Absolute magnitude(Mv) is:-7.45\n",
      "\n"
     ]
    }
   ],
   "source": [
    "for i in column_name_list:\n",
    "    max_val = max(list(four[i]))\n",
    "    min_val = min(list(four[i]))\n",
    "    print(\"The Max Value for \" + \"Type 4 \" + i + \" is: \" + str(max_val) + \"\\n\" + \n",
    "          \"The Min Value for \" + \"Type 4 \" + i + \" is:\" + str(min_val) + \"\\n\")"
   ]
  },
  {
   "cell_type": "code",
   "execution_count": 1479,
   "id": "1893b0bf",
   "metadata": {},
   "outputs": [
    {
     "name": "stdout",
     "output_type": "stream",
     "text": [
      "The Max Value for Type 5 Temperature (K) is: 38940\n",
      "The Min Value for Type 5 Temperature (K) is:3399\n",
      "\n",
      "The Max Value for Type 5 Luminosity(L/Lo) is: 849420.0\n",
      "The Min Value for Type 5 Luminosity(L/Lo) is:74000.0\n",
      "\n",
      "The Max Value for Type 5 Radius(R/Ro) is: 1948.5\n",
      "The Min Value for Type 5 Radius(R/Ro) is:708.9\n",
      "\n",
      "The Max Value for Type 5 Absolute magnitude(Mv) is: -7.58\n",
      "The Min Value for Type 5 Absolute magnitude(Mv) is:-11.92\n",
      "\n"
     ]
    }
   ],
   "source": [
    "for i in column_name_list:\n",
    "    max_val = max(list(five[i]))\n",
    "    min_val = min(list(five[i]))\n",
    "    print(\"The Max Value for \" + \"Type 5 \" + i + \" is: \" + str(max_val) + \"\\n\" + \n",
    "          \"The Min Value for \" + \"Type 5 \" + i + \" is:\" + str(min_val) + \"\\n\")"
   ]
  },
  {
   "cell_type": "code",
   "execution_count": 1480,
   "id": "7544e11d",
   "metadata": {},
   "outputs": [
    {
     "data": {
      "text/plain": [
       "<matplotlib.collections.PathCollection at 0x12f20b100>"
      ]
     },
     "execution_count": 1480,
     "metadata": {},
     "output_type": "execute_result"
    },
    {
     "data": {
      "image/png": "[encoded data removed]",
      "text/plain": [
       "<Figure size 432x288 with 1 Axes>"
      ]
     },
     "metadata": {
      "needs_background": "light"
     },
     "output_type": "display_data"
    }
   ],
   "source": [
    "plt.scatter(data[\"Temperature (K)\"], data[\"Luminosity(L/Lo)\"])"
   ]
  },
  {
   "cell_type": "code",
   "execution_count": 1481,
   "id": "6f606c52",
   "metadata": {},
   "outputs": [
    {
     "data": {
      "text/plain": [
       "<matplotlib.collections.PathCollection at 0x118906250>"
      ]
     },
     "execution_count": 1481,
     "metadata": {},
     "output_type": "execute_result"
    },
    {
     "data": {
      "image/png": "[encoded data removed]",
      "text/plain": [
       "<Figure size 432x288 with 1 Axes>"
      ]
     },
     "metadata": {
      "needs_background": "light"
     },
     "output_type": "display_data"
    }
   ],
   "source": [
    "plt.scatter(data[\"Absolute magnitude(Mv)\"], data[\"Radius(R/Ro)\"])"
   ]
  },
  {
   "cell_type": "code",
   "execution_count": 1482,
   "id": "a8df6ad4",
   "metadata": {},
   "outputs": [
    {
     "data": {
      "text/plain": [
       "<matplotlib.collections.PathCollection at 0x1266adbe0>"
      ]
     },
     "execution_count": 1482,
     "metadata": {},
     "output_type": "execute_result"
    },
    {
     "data": {
      "image/png": "[encoded data removed]",
      "text/plain": [
       "<Figure size 432x288 with 1 Axes>"
      ]
     },
     "metadata": {
      "needs_background": "light"
     },
     "output_type": "display_data"
    }
   ],
   "source": [
    "plt.scatter(data[\"Luminosity(L/Lo)\"], data[\"Absolute magnitude(Mv)\"])"
   ]
  },
  {
   "cell_type": "code",
   "execution_count": 1483,
   "id": "2c84191b",
   "metadata": {},
   "outputs": [
    {
     "data": {
      "text/plain": [
       "<matplotlib.collections.PathCollection at 0x118900310>"
      ]
     },
     "execution_count": 1483,
     "metadata": {},
     "output_type": "execute_result"
    },
    {
     "data": {
      "image/png": "[encoded data removed]",
      "text/plain": [
       "<Figure size 432x288 with 1 Axes>"
      ]
     },
     "metadata": {
      "needs_background": "light"
     },
     "output_type": "display_data"
    }
   ],
   "source": [
    "plt.scatter(data[\"Luminosity(L/Lo)\"], data[\"Radius(R/Ro)\"])"
   ]
  },
  {
   "cell_type": "code",
   "execution_count": 1484,
   "id": "62b084d5",
   "metadata": {},
   "outputs": [
    {
     "data": {
      "text/plain": [
       "<BarContainer object of 240 artists>"
      ]
     },
     "execution_count": 1484,
     "metadata": {},
     "output_type": "execute_result"
    },
    {
     "data": {
      "image/png": "[encoded data removed]",
      "text/plain": [
       "<Figure size 432x288 with 1 Axes>"
      ]
     },
     "metadata": {
      "needs_background": "light"
     },
     "output_type": "display_data"
    }
   ],
   "source": [
    "plt.bar(data[\"Star type\"], data[\"Temperature (K)\"])"
   ]
  },
  {
   "cell_type": "code",
   "execution_count": 1485,
   "id": "3332c52e",
   "metadata": {},
   "outputs": [
    {
     "data": {
      "text/plain": [
       "<BarContainer object of 240 artists>"
      ]
     },
     "execution_count": 1485,
     "metadata": {},
     "output_type": "execute_result"
    },
    {
     "data": {
      "image/png": "[encoded data removed]",
      "text/plain": [
       "<Figure size 432x288 with 1 Axes>"
      ]
     },
     "metadata": {
      "needs_background": "light"
     },
     "output_type": "display_data"
    }
   ],
   "source": [
    "plt.bar(data[\"Star type\"], data[\"Luminosity(L/Lo)\"])"
   ]
  },
  {
   "cell_type": "code",
   "execution_count": 1486,
   "id": "39f85f5d",
   "metadata": {},
   "outputs": [
    {
     "data": {
      "text/plain": [
       "<BarContainer object of 240 artists>"
      ]
     },
     "execution_count": 1486,
     "metadata": {},
     "output_type": "execute_result"
    },
    {
     "data": {
      "image/png": "[encoded data removed]",
      "text/plain": [
       "<Figure size 432x288 with 1 Axes>"
      ]
     },
     "metadata": {
      "needs_background": "light"
     },
     "output_type": "display_data"
    }
   ],
   "source": [
    "plt.bar(data[\"Star type\"], data[\"Absolute magnitude(Mv)\"])"
   ]
  },
  {
   "cell_type": "code",
   "execution_count": 1487,
   "id": "a9f35a3c",
   "metadata": {},
   "outputs": [
    {
     "data": {
      "text/plain": [
       "<BarContainer object of 240 artists>"
      ]
     },
     "execution_count": 1487,
     "metadata": {},
     "output_type": "execute_result"
    },
    {
     "data": {
      "image/png": "[encoded data removed]",
      "text/plain": [
       "<Figure size 432x288 with 1 Axes>"
      ]
     },
     "metadata": {
      "needs_background": "light"
     },
     "output_type": "display_data"
    }
   ],
   "source": [
    "plt.bar(data[\"Star type\"], data[\"Radius(R/Ro)\"])"
   ]
  },
  {
   "cell_type": "code",
   "execution_count": 1488,
   "id": "16fc21b8",
   "metadata": {},
   "outputs": [
    {
     "data": {
      "text/plain": [
       "<BarContainer object of 240 artists>"
      ]
     },
     "execution_count": 1488,
     "metadata": {},
     "output_type": "execute_result"
    },
    {
     "data": {
      "image/png": "[encoded data removed]",
      "text/plain": [
       "<Figure size 432x288 with 1 Axes>"
      ]
     },
     "metadata": {
      "needs_background": "light"
     },
     "output_type": "display_data"
    }
   ],
   "source": [
    "plt.bar(data[\"Spectral Class\"], data[\"Temperature (K)\"])"
   ]
  },
  {
   "cell_type": "code",
   "execution_count": 1489,
   "id": "9555a8af",
   "metadata": {},
   "outputs": [
    {
     "data": {
      "text/plain": [
       "<BarContainer object of 240 artists>"
      ]
     },
     "execution_count": 1489,
     "metadata": {},
     "output_type": "execute_result"
    },
    {
     "data": {
      "image/png": "[encoded data removed]",
      "text/plain": [
       "<Figure size 432x288 with 1 Axes>"
      ]
     },
     "metadata": {
      "needs_background": "light"
     },
     "output_type": "display_data"
    }
   ],
   "source": [
    "plt.bar(data[\"Spectral Class\"], data[\"Luminosity(L/Lo)\"])"
   ]
  },
  {
   "cell_type": "code",
   "execution_count": 1490,
   "id": "6a868ad8",
   "metadata": {},
   "outputs": [
    {
     "data": {
      "text/plain": [
       "<BarContainer object of 240 artists>"
      ]
     },
     "execution_count": 1490,
     "metadata": {},
     "output_type": "execute_result"
    },
    {
     "data": {
      "image/png": "[encoded data removed]",
      "text/plain": [
       "<Figure size 432x288 with 1 Axes>"
      ]
     },
     "metadata": {
      "needs_background": "light"
     },
     "output_type": "display_data"
    }
   ],
   "source": [
    "plt.bar(data[\"Spectral Class\"], data[\"Absolute magnitude(Mv)\"])"
   ]
  },
  {
   "cell_type": "code",
   "execution_count": 1491,
   "id": "e05c6ab5",
   "metadata": {},
   "outputs": [
    {
     "data": {
      "text/plain": [
       "<BarContainer object of 240 artists>"
      ]
     },
     "execution_count": 1491,
     "metadata": {},
     "output_type": "execute_result"
    },
    {
     "data": {
      "image/png": "[encoded data removed]",
      "text/plain": [
       "<Figure size 432x288 with 1 Axes>"
      ]
     },
     "metadata": {
      "needs_background": "light"
     },
     "output_type": "display_data"
    }
   ],
   "source": [
    "plt.bar(data[\"Spectral Class\"], data[\"Radius(R/Ro)\"])"
   ]
  },
  {
   "cell_type": "code",
   "execution_count": 1492,
   "id": "f9fecfda",
   "metadata": {},
   "outputs": [
    {
     "data": {
      "text/plain": [
       "array(['M'], dtype=object)"
      ]
     },
     "execution_count": 1492,
     "metadata": {},
     "output_type": "execute_result"
    }
   ],
   "source": [
    "data[data[\"Star type\"] == 0][\"Spectral Class\"].unique()"
   ]
  },
  {
   "cell_type": "code",
   "execution_count": 1493,
   "id": "65de121e",
   "metadata": {},
   "outputs": [
    {
     "data": {
      "text/plain": [
       "array(['M'], dtype=object)"
      ]
     },
     "execution_count": 1493,
     "metadata": {},
     "output_type": "execute_result"
    }
   ],
   "source": [
    "data[data[\"Star type\"] == 1][\"Spectral Class\"].unique()"
   ]
  },
  {
   "cell_type": "code",
   "execution_count": 1494,
   "id": "d6078690",
   "metadata": {},
   "outputs": [
    {
     "data": {
      "text/plain": [
       "array(['B', 'A', 'F'], dtype=object)"
      ]
     },
     "execution_count": 1494,
     "metadata": {},
     "output_type": "execute_result"
    }
   ],
   "source": [
    "data[data[\"Star type\"] == 2][\"Spectral Class\"].unique()"
   ]
  },
  {
   "cell_type": "code",
   "execution_count": 1495,
   "id": "9deb17a6",
   "metadata": {},
   "outputs": [
    {
     "data": {
      "text/plain": [
       "array(['O', 'B', 'F', 'A', 'K'], dtype=object)"
      ]
     },
     "execution_count": 1495,
     "metadata": {},
     "output_type": "execute_result"
    }
   ],
   "source": [
    "data[data[\"Star type\"] == 3][\"Spectral Class\"].unique()"
   ]
  },
  {
   "cell_type": "code",
   "execution_count": 1496,
   "id": "78937326",
   "metadata": {},
   "outputs": [
    {
     "data": {
      "text/plain": [
       "array(['M', 'B', 'O'], dtype=object)"
      ]
     },
     "execution_count": 1496,
     "metadata": {},
     "output_type": "execute_result"
    }
   ],
   "source": [
    "data[data[\"Star type\"] == 4][\"Spectral Class\"].unique()"
   ]
  },
  {
   "cell_type": "code",
   "execution_count": 1497,
   "id": "0b0096ee",
   "metadata": {},
   "outputs": [
    {
     "data": {
      "text/plain": [
       "array(['M', 'K', 'G', 'B', 'O', 'A'], dtype=object)"
      ]
     },
     "execution_count": 1497,
     "metadata": {},
     "output_type": "execute_result"
    }
   ],
   "source": [
    "data[data[\"Star type\"] == 5][\"Spectral Class\"].unique()"
   ]
  },
  {
   "cell_type": "code",
   "execution_count": 386,
   "id": "f14cfef4",
   "metadata": {},
   "outputs": [],
   "source": [
    "### Create Data To Simulate and Test Model ###"
   ]
  },
  {
   "cell_type": "code",
   "execution_count": 1500,
   "id": "c7470ef3",
   "metadata": {},
   "outputs": [],
   "source": [
    "zero_sim_sample = []\n",
    "sim_t = np.arange(start=1939, stop=3532, step=1)\n",
    "sim_t = np.random.choice(sim_t, 1)\n",
    "zero_sim_sample.append(sim_t[0])\n",
    "\n",
    "sim_l = np.arange(start=0.000138, stop=0.0056, step=0.000001)\n",
    "sim_l = np.random.choice(sim_l, 1)\n",
    "zero_sim_sample.append(sim_l[0])\n",
    "\n",
    "sim_r = np.arange(start=0.057, stop=0.19, step=0.001)\n",
    "sim_r = np.random.choice(sim_r, 1)\n",
    "zero_sim_sample.append(sim_r[0])\n",
    "\n",
    "sim_a = np.arange(start=16.05, stop=20.07, step=0.01)\n",
    "sim_a = np.random.choice(sim_a, 1)\n",
    "zero_sim_sample.append(sim_a[0])\n",
    "\n",
    "zero_sim_sample.append(1)\n",
    "zero_sim_sample.append(1)\n",
    "\n",
    "x0 = zero_sim_sample\n",
    "\n"
   ]
  },
  {
   "cell_type": "code",
   "execution_count": 1501,
   "id": "dcf0539d",
   "metadata": {},
   "outputs": [],
   "source": [
    "one_sim_sample = []\n",
    "sim_t = np.arange(start=2621, stop=3693, step=1)\n",
    "sim_t = np.random.choice(sim_t, 1)\n",
    "one_sim_sample.append(sim_t[0])\n",
    "\n",
    "sim_l = np.arange(start=0.00019, stop=0.039, step=0.00001)\n",
    "sim_l = np.random.choice(sim_l, 1)\n",
    "one_sim_sample.append(sim_l[0])\n",
    "\n",
    "sim_r = np.arange(start=0.098, stop=0.73, step=0.001)\n",
    "sim_r = np.random.choice(sim_r, 1)\n",
    "one_sim_sample.append(sim_r[0])\n",
    "\n",
    "sim_a = np.arange(start=10.12, stop=14.94, step=0.01)\n",
    "sim_a = np.random.choice(sim_a, 1)\n",
    "one_sim_sample.append(sim_a[0])\n",
    "\n",
    "one_sim_sample.append(1)\n",
    "one_sim_sample.append(1)\n",
    "one_sim_sample\n",
    "\n",
    "x1 = one_sim_sample"
   ]
  },
  {
   "cell_type": "code",
   "execution_count": 1502,
   "id": "085d0bb8",
   "metadata": {},
   "outputs": [
    {
     "data": {
      "text/plain": [
       "[13450, 0.0005, 0.011799999999999979, 11.54999999999997, 2, 4]"
      ]
     },
     "execution_count": 1502,
     "metadata": {},
     "output_type": "execute_result"
    }
   ],
   "source": [
    "two_sim_sample = []\n",
    "sim_t = np.arange(start=7100, stop=25000, step=1)\n",
    "sim_t = np.random.choice(sim_t, 1)\n",
    "two_sim_sample.append(sim_t[0])\n",
    "\n",
    "sim_l = np.arange(start=8e-05, stop=0.056, step=0.00001)\n",
    "sim_l = np.random.choice(sim_l, 1)\n",
    "two_sim_sample.append(sim_l[0])\n",
    "\n",
    "sim_r = np.arange(start=0.0084, stop=0.015, step=0.0001)\n",
    "sim_r = np.random.choice(sim_r, 1)\n",
    "two_sim_sample.append(sim_r[0])\n",
    "\n",
    "sim_a = np.arange(start=10.18, stop=14.87, step=0.01)\n",
    "sim_a = np.random.choice(sim_a, 1)\n",
    "two_sim_sample.append(sim_a[0])\n",
    "\n",
    "sim_c = np.random.choice([2,3,4], 1)\n",
    "two_sim_sample.append(sim_c[0])\n",
    "\n",
    "sim_s = np.random.choice([2,3,4], 1)\n",
    "two_sim_sample.append(sim_s[0])\n",
    "\n",
    "two_sim_sample\n",
    "\n",
    "x2 = two_sim_sample\n",
    "x2"
   ]
  },
  {
   "cell_type": "code",
   "execution_count": 1503,
   "id": "6116bffd",
   "metadata": {},
   "outputs": [],
   "source": [
    "three_sim_sample = []\n",
    "sim_t = np.arange(start=4077, stop=32460, step=1)\n",
    "sim_t = np.random.choice(sim_t, 1)\n",
    "three_sim_sample.append(sim_t[0])\n",
    "\n",
    "sim_l = np.arange(start=0.085, stop=188000, step=0.001)\n",
    "sim_l = np.random.choice(sim_l, 1)\n",
    "three_sim_sample.append(sim_l[0])\n",
    "\n",
    "sim_r = np.arange(start=0.795, stop=7.2, step=0.001)\n",
    "sim_r = np.random.choice(sim_r, 1)\n",
    "three_sim_sample.append(sim_r[0])\n",
    "\n",
    "sim_a = np.arange(start=-4.36, stop=6.506, step=0.01)\n",
    "sim_a = np.random.choice(sim_a, 1)\n",
    "three_sim_sample.append(sim_a[0])\n",
    "\n",
    "sim_c = np.random.choice([1,2,4,5], 1)\n",
    "three_sim_sample.append(sim_c[0])\n",
    "\n",
    "sim_s = np.random.choice([2,3,4,5,6], 1)\n",
    "three_sim_sample.append(sim_s[0])\n",
    "\n",
    "\n",
    "x3 = three_sim_sample"
   ]
  },
  {
   "cell_type": "code",
   "execution_count": 1504,
   "id": "e3627fef",
   "metadata": {},
   "outputs": [],
   "source": [
    "four_sim_sample = []\n",
    "sim_t = np.arange(start=3008, stop=26373, step=1)\n",
    "sim_t = np.random.choice(sim_t, 1)\n",
    "four_sim_sample.append(sim_t[0])\n",
    "\n",
    "sim_l = np.arange(start=112000, stop=452000, step=1)\n",
    "sim_l = np.random.choice(sim_l, 1)\n",
    "four_sim_sample.append(sim_l[0])\n",
    "\n",
    "sim_r = np.arange(start=12, stop=98, step=1)\n",
    "sim_r = np.random.choice(sim_r, 1)\n",
    "four_sim_sample.append(sim_r[0])\n",
    "\n",
    "sim_a = np.arange(start=-7.45, stop=-5.24, step=0.01)\n",
    "sim_a = np.random.choice(sim_a, 1)\n",
    "four_sim_sample.append(sim_a[0])\n",
    "\n",
    "sim_c = np.random.choice([1,4], 1)\n",
    "four_sim_sample.append(sim_c[0])\n",
    "\n",
    "sim_s = np.random.choice([1,4,5], 1)\n",
    "four_sim_sample.append(sim_s[0])\n",
    "four_sim_sample\n",
    "\n",
    "x4 = four_sim_sample"
   ]
  },
  {
   "cell_type": "code",
   "execution_count": 1516,
   "id": "8d1cc74a",
   "metadata": {},
   "outputs": [],
   "source": [
    "five_sim_sample = []\n",
    "sim_t = np.arange(start=1939, stop=3532, step=1)\n",
    "sim_t = np.random.choice(sim_t, 1)\n",
    "five_sim_sample.append(sim_t[0])\n",
    "\n",
    "sim_l = np.arange(start=0.000138, stop=0.0056, step=0.000001)\n",
    "sim_l = np.random.choice(sim_l, 1)\n",
    "five_sim_sample.append(sim_l[0])\n",
    "\n",
    "sim_r = np.arange(start=0.057, stop=0.19, step=0.001)\n",
    "sim_r = np.random.choice(sim_r, 1)\n",
    "five_sim_sample.append(sim_r[0])\n",
    "\n",
    "sim_a = np.arange(start=16.05, stop=20.07, step=0.01)\n",
    "sim_a = np.random.choice(sim_a, 1)\n",
    "five_sim_sample.append(sim_a[0])\n",
    "\n",
    "sim_c = np.random.choice([1,2,3,4], 1)\n",
    "five_sim_sample.append(sim_s[0])\n",
    "\n",
    "sim_s = np.random.choice([1,3,5,6], 1)\n",
    "five_sim_sample.append(sim_s[0])\n",
    "five_sim_sample\n",
    "\n",
    "x5 = five_sim_sample"
   ]
  },
  {
   "cell_type": "code",
   "execution_count": 1506,
   "id": "123e21b7",
   "metadata": {},
   "outputs": [],
   "source": [
    "# load model#"
   ]
  },
  {
   "cell_type": "code",
   "execution_count": 1507,
   "id": "96f901bf",
   "metadata": {},
   "outputs": [],
   "source": [
    "loaded_rf = joblib.load(\"./random_forest.joblib\")"
   ]
  },
  {
   "cell_type": "code",
   "execution_count": 1521,
   "id": "1cd9e5b1",
   "metadata": {},
   "outputs": [
    {
     "name": "stdout",
     "output_type": "stream",
     "text": [
      "Predicted Star Type is: 1\n"
     ]
    }
   ],
   "source": [
    "print(\"Predicted Star Type is: \" + str(loaded_rf.predict(np.array(x1).reshape(1,-1))[0]))"
   ]
  },
  {
   "cell_type": "code",
   "execution_count": null,
   "id": "21ff9cc0",
   "metadata": {},
   "outputs": [],
   "source": []
  },
  {
   "cell_type": "code",
   "execution_count": null,
   "id": "9c13a7ee",
   "metadata": {},
   "outputs": [],
   "source": []
  }
 ],
 "metadata": {
  "kernelspec": {
   "display_name": "Python 3 (ipykernel)",
   "language": "python",
   "name": "python3"
  },
  "language_info": {
   "codemirror_mode": {
    "name": "ipython",
    "version": 3
   },
   "file_extension": ".py",
   "mimetype": "text/x-python",
   "name": "python",
   "nbconvert_exporter": "python",
   "pygments_lexer": "ipython3",
   "version": "3.9.7"
  }
 },
 "nbformat": 4,
 "nbformat_minor": 5
}
