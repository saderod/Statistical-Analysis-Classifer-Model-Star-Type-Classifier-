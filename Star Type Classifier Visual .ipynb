{
 "cells": [
  {
   "cell_type": "code",
   "execution_count": 39,
   "id": "c11e4531",
   "metadata": {},
   "outputs": [],
   "source": [
    "import joblib\n",
    "import numpy as np\n",
    "from tkinter import *\n",
    "import tkinter as tk"
   ]
  },
  {
   "cell_type": "code",
   "execution_count": 40,
   "id": "144bfb14",
   "metadata": {},
   "outputs": [],
   "source": [
    "loaded_rf = joblib.load(\"./random_forest.joblib\")"
   ]
  },
  {
   "cell_type": "code",
   "execution_count": 52,
   "id": "7bea4e11",
   "metadata": {},
   "outputs": [],
   "source": [
    "root = tk.Tk()\n",
    "w = 460 # width for the Tk root\n",
    "h = 650 # height for the Tk root\n",
    "\n",
    "# get screen width and height\n",
    "ws = root.winfo_screenwidth() # width of the screen\n",
    "hs = root.winfo_screenheight() # height of the screen\n",
    "\n",
    "# calculate x and y coordinates for the Tk root window\n",
    "x = (ws/2) - (w/2)\n",
    "y = (hs/2) - (h/2)\n",
    "\n",
    "# set the dimensions of the screen \n",
    "# and where it is placed\n",
    "root.geometry('%dx%d+%d+%d' % (w, h, x, y))\n",
    "root.title(\"Star Type Prediction Model\")\n",
    "\n",
    "    \n",
    "space_label = Label(root, text=\"\").grid(row=15, column=1)\n",
    "myLabel = Label(root, text=\"This is a statistical and data science model that predicts the star type \\n attribute of a star based on 6 attributes \\n\").grid(row=0, column=1)\n",
    "myButton = Button(root, text=\"Predict Star Type\", command=predict).grid(row=16, column=1)\n",
    "temp_label = Label(root, text=\"Temperature (K)\").grid(row=3, column=1)\n",
    "slider = Scale(root, from_=1939, to=40000, orient=HORIZONTAL)\n",
    "slider.grid(row=4, column=1)\n",
    "lum_label = Label(root, text=\"\\n Luminosity(L/Lo)\").grid(row=5, column=1)\n",
    "slider2 = Scale(root, from_=0.000138, to=849420, orient=HORIZONTAL)\n",
    "slider2.grid(row=6, column=1)\n",
    "rad_label = Label(root, text=\"\\n Radius(R/Ro)\").grid(row=7, column=1)\n",
    "slider3 = Scale(root, from_=0.103, to=1252, orient=HORIZONTAL)\n",
    "slider3.grid(row=8, column=1)\n",
    "abs_label = Label(root, text=\"\\n Absolute magnitude(Mv)\").grid(row=9, column=1)\n",
    "slider4 = Scale(root, from_=20.06, to=-7.59, orient=HORIZONTAL)\n",
    "slider4.grid(row=10, column=1)\n",
    "color_label = Label(root, text=\"\\n Star color\").grid(row=11, column=1)\n",
    "slider5 = Scale(root, from_=1, to=5, orient=HORIZONTAL)\n",
    "slider5.grid(row=12, column=1)\n",
    "spectral_label = Label(root, text=\"\\n Spectral class\").grid(row=13, column=1)\n",
    "slider6 = Scale(root, from_=1, to=7, orient=HORIZONTAL)\n",
    "slider6.grid(row=14, column=1)\n",
    "\n",
    "\n",
    "def predict():\n",
    "    attribute_list = []\n",
    "    t = slider.get()\n",
    "    l = slider2.get()\n",
    "    r = slider3.get()\n",
    "    a = slider4.get()\n",
    "    c = slider5.get()\n",
    "    s = slider6.get()\n",
    "    attribute_list.append(int(t))\n",
    "    attribute_list.append(int(l))\n",
    "    attribute_list.append(int(r))\n",
    "    attribute_list.append(int(a))\n",
    "    attribute_list.append(int(c))\n",
    "    attribute_list.append(int(s))\n",
    "    pred_val = \" \\n Predicted Star Type is: \" + str(loaded_rf.predict(np.array(attribute_list).reshape(1,-1))[0])\n",
    "    myL2 = Label(root, text=pred_val).grid(row=17, column=1)\n",
    "    \n",
    "    \n",
    "root.mainloop()"
   ]
  },
  {
   "cell_type": "code",
   "execution_count": null,
   "id": "b36338da",
   "metadata": {},
   "outputs": [],
   "source": []
  },
  {
   "cell_type": "code",
   "execution_count": null,
   "id": "f435c67c",
   "metadata": {},
   "outputs": [],
   "source": []
  }
 ],
 "metadata": {
  "kernelspec": {
   "display_name": "Python 3 (ipykernel)",
   "language": "python",
   "name": "python3"
  },
  "language_info": {
   "codemirror_mode": {
    "name": "ipython",
    "version": 3
   },
   "file_extension": ".py",
   "mimetype": "text/x-python",
   "name": "python",
   "nbconvert_exporter": "python",
   "pygments_lexer": "ipython3",
   "version": "3.9.7"
  }
 },
 "nbformat": 4,
 "nbformat_minor": 5
}
